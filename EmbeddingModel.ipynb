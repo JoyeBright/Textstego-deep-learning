{
  "nbformat": 4,
  "nbformat_minor": 0,
  "metadata": {
    "colab": {
      "name": "EmbeddingModel.ipynb",
      "provenance": [],
      "collapsed_sections": [],
      "mount_file_id": "1uSPF0HjZDTStrxuvqlECRC1MfVXfXikD",
      "authorship_tag": "ABX9TyPm8HjQUTYCYm50UCPB96RG",
      "include_colab_link": true
    },
    "kernelspec": {
      "name": "python3",
      "display_name": "Python 3"
    }
  },
  "cells": [
    {
      "cell_type": "markdown",
      "metadata": {
        "id": "view-in-github",
        "colab_type": "text"
      },
      "source": [
        "<a href=\"https://colab.research.google.com/github/JoyeBright/TxtStego-deep-learning/blob/trial/EmbeddingModel.ipynb\" target=\"_parent\"><img src=\"https://colab.research.google.com/assets/colab-badge.svg\" alt=\"Open In Colab\"/></a>"
      ]
    },
    {
      "cell_type": "markdown",
      "metadata": {
        "id": "xUGWXhO9mrqC",
        "colab_type": "text"
      },
      "source": [
        "## **Training Word Vectors by FastText**"
      ]
    },
    {
      "cell_type": "code",
      "metadata": {
        "id": "bhna6PsXmzeI",
        "colab_type": "code",
        "outputId": "6daced32-e705-4dca-d187-288ffc8490c0",
        "colab": {
          "base_uri": "https://localhost:8080/",
          "height": 204
        }
      },
      "source": [
        "!wget https://dl.fbaipublicfiles.com/fasttext/vectors-wiki/wiki.en.zip"
      ],
      "execution_count": 0,
      "outputs": [
        {
          "output_type": "stream",
          "text": [
            "--2020-04-18 14:09:14--  https://dl.fbaipublicfiles.com/fasttext/vectors-wiki/wiki.en.zip\n",
            "Resolving dl.fbaipublicfiles.com (dl.fbaipublicfiles.com)... 104.22.74.142, 104.22.75.142, 2606:4700:10::6816:4a8e, ...\n",
            "Connecting to dl.fbaipublicfiles.com (dl.fbaipublicfiles.com)|104.22.74.142|:443... connected.\n",
            "HTTP request sent, awaiting response... 200 OK\n",
            "Length: 10356881291 (9.6G) [application/zip]\n",
            "Saving to: ‘wiki.en.zip’\n",
            "\n",
            "wiki.en.zip         100%[===================>]   9.65G  12.2MB/s    in 13m 34s \n",
            "\n",
            "2020-04-18 14:22:49 (12.1 MB/s) - ‘wiki.en.zip’ saved [10356881291/10356881291]\n",
            "\n"
          ],
          "name": "stdout"
        }
      ]
    },
    {
      "cell_type": "code",
      "metadata": {
        "id": "w9wLbAWgu_xt",
        "colab_type": "code",
        "colab": {}
      },
      "source": [
        "import zipfile\n",
        "with zipfile.ZipFile('/content/wiki.en.zip', 'r') as zip_ref:\n",
        "    zip_ref.extractall('/content/')\n"
      ],
      "execution_count": 0,
      "outputs": []
    },
    {
      "cell_type": "markdown",
      "metadata": {
        "id": "OEMieDy8zi4J",
        "colab_type": "text"
      },
      "source": [
        "### **Load the Model**"
      ]
    },
    {
      "cell_type": "code",
      "metadata": {
        "id": "zliNQS6bzYb6",
        "colab_type": "code",
        "outputId": "5dc5573c-f727-4657-b0f7-8aeeb561c1da",
        "colab": {
          "base_uri": "https://localhost:8080/",
          "height": 377
        }
      },
      "source": [
        "!pip uninstall fasttext\n",
        "!pip install git+https://github.com/facebookresearch/fastText.git"
      ],
      "execution_count": 0,
      "outputs": [
        {
          "output_type": "stream",
          "text": [
            "Uninstalling fasttext-0.9.1:\n",
            "  Would remove:\n",
            "    /usr/local/lib/python3.6/dist-packages/fasttext-0.9.1.dist-info/*\n",
            "    /usr/local/lib/python3.6/dist-packages/fasttext/*\n",
            "    /usr/local/lib/python3.6/dist-packages/fasttext_pybind.cpython-36m-x86_64-linux-gnu.so\n",
            "Proceed (y/n)? y\n",
            "  Successfully uninstalled fasttext-0.9.1\n",
            "Collecting git+https://github.com/facebookresearch/fastText.git\n",
            "  Cloning https://github.com/facebookresearch/fastText.git to /tmp/pip-req-build-655o0gxm\n",
            "  Running command git clone -q https://github.com/facebookresearch/fastText.git /tmp/pip-req-build-655o0gxm\n",
            "Requirement already satisfied: pybind11>=2.2 in /usr/local/lib/python3.6/dist-packages (from fasttext==0.9.1) (2.5.0)\n",
            "Requirement already satisfied: setuptools>=0.7.0 in /usr/local/lib/python3.6/dist-packages (from fasttext==0.9.1) (46.1.3)\n",
            "Requirement already satisfied: numpy in /usr/local/lib/python3.6/dist-packages (from fasttext==0.9.1) (1.18.2)\n",
            "Building wheels for collected packages: fasttext\n",
            "  Building wheel for fasttext (setup.py) ... \u001b[?25l\u001b[?25hdone\n",
            "  Created wheel for fasttext: filename=fasttext-0.9.1-cp36-cp36m-linux_x86_64.whl size=2872892 sha256=d3cc87fad38a92cd436a6707982990eff05813a18d41f6692329722d9406aaf3\n",
            "  Stored in directory: /tmp/pip-ephem-wheel-cache-cjuc67yt/wheels/69/f8/19/7f0ab407c078795bc9f86e1f6381349254f86fd7d229902355\n",
            "Successfully built fasttext\n",
            "Installing collected packages: fasttext\n",
            "Successfully installed fasttext-0.9.1\n"
          ],
          "name": "stdout"
        }
      ]
    },
    {
      "cell_type": "code",
      "metadata": {
        "id": "Tw0TuDUR8lSi",
        "colab_type": "code",
        "outputId": "73a0963e-8265-486a-d107-35900f6e2ed2",
        "colab": {
          "base_uri": "https://localhost:8080/",
          "height": 34
        }
      },
      "source": [
        "import fasttext\n",
        "ft = fasttext.load_model('/content/wiki.en.bin')"
      ],
      "execution_count": 0,
      "outputs": [
        {
          "output_type": "stream",
          "text": [
            "Warning : `load_model` does not return WordVectorModel or SupervisedModel any more, but a `FastText` object which is very similar.\n"
          ],
          "name": "stderr"
        }
      ]
    },
    {
      "cell_type": "code",
      "metadata": {
        "id": "H2PmJtbQ0ND1",
        "colab_type": "code",
        "outputId": "5a0335d2-6c5e-4165-e94e-16356691c88b",
        "colab": {
          "base_uri": "https://localhost:8080/",
          "height": 34
        }
      },
      "source": [
        "ft.get_dimension()\n",
        "#import fasttext.util\n",
        "#fasttext.util.reduce_model(ft, 100)\n",
        "#ft.get_word_vector('hello').shape\n",
        "#ft.get_nearest_neighbors('hello')"
      ],
      "execution_count": 0,
      "outputs": [
        {
          "output_type": "execute_result",
          "data": {
            "text/plain": [
              "300"
            ]
          },
          "metadata": {
            "tags": []
          },
          "execution_count": 3
        }
      ]
    },
    {
      "cell_type": "code",
      "metadata": {
        "id": "uiWYllZn-hhc",
        "colab_type": "code",
        "colab": {}
      },
      "source": [
        "#ft.get_word_vector(\"the\")"
      ],
      "execution_count": 0,
      "outputs": []
    },
    {
      "cell_type": "markdown",
      "metadata": {
        "id": "qCwmCTPXeHCu",
        "colab_type": "text"
      },
      "source": [
        "## **Import the vocabulary_cover.txt**\n",
        "*NB: It contains extracted vocabulary from cover_text*"
      ]
    },
    {
      "cell_type": "code",
      "metadata": {
        "id": "W1_TmpjafJrv",
        "colab_type": "code",
        "outputId": "0f6ccfd0-a1bf-4d9c-cab8-4ff1041d3faa",
        "colab": {
          "base_uri": "https://localhost:8080/",
          "height": 71
        }
      },
      "source": [
        "vocabulary_cover = []\n",
        "with open('/content/drive/My Drive/Colab Notebooks/TxtSteganography/vocabulary_cover.txt', \"r\") as f:\n",
        "  for line in f:\n",
        "    vocabulary_cover.append(line.rstrip('\\n'))\n",
        "\n",
        "print(vocabulary_cover)\n",
        "#print(vocabulary_cover[1])\n",
        "print (\"# unique words:\", len(vocabulary_cover)) # make sure everything imported correctly"
      ],
      "execution_count": 0,
      "outputs": [
        {
          "output_type": "stream",
          "text": [
            "['demesne', 'far', 'hearted', 'suppose', 'venture', 'excited', 'see', 'had', 'has.', 'dependent', 'on', 'so', 'extremely', 'delivered', 'by.', 'yet', '\\ufeffno', 'jokes', 'worse', 'her', 'why.', 'bed', 'one', 'supposing', 'breakfast', 'day', 'fulfilled', 'off', 'depending', 'questions.', 'whatever', 'boy', 'exertion', 'his', 'extended.', 'ecstatic', 'followed', 'handsome', 'drawings', 'entirely', 'mrs', 'outweigh.', 'of', 'acceptance', 'insipidity', 'remarkably', 'is', 'invitation.', 'sincerity', 'therefore', 'forfeited', 'certainty', 'neglected', 'pursuit', 'chamber', 'as', 'elderly', 'amongst', 'on.', 'distant', 'however', 'warrant', 'farther', 'to', 'of.', 'my', 'justice', 'wishing', 'prudent', 'waiting', 'in', 'be.', 'comparison', 'age', 'not', 'pianoforte', 'increasing', 'delightful', 'now.', 'sufficient', 'dispatched', 'any', 'reasonably', 'led', 'ask.', 'announcing', 'if', 'attachment', 'resolution', 'sentiments', 'admiration', 'me', 'diminution.', 'she', 'wholly', 'fat', 'who', 'window', 'extent', 'either', 'formal.', 'removing', 'welcomed', 'civility', 'or', 'hastened', 'is.', 'but', 'perhaps', 'expense', 'six', 'are', 'another', 'passage.', 'full', 'ten', 'open', 'fond', 'walk', 'down.', 'for', 'request', 'general', 'express', 'unknown', 'are.', 'he', 'just', 'mr', 'door', 'body', 'held', 'john', 'down', 'he.', 'journey', 'greatly', 'garrets.', 'draw', 'kept', 'do', 'come', 'mean.', 'estimating', 'stimulated', 'how', 'precaution', 'diminution', 'simplicity', 'sir', 'but.', 'questions', 'am', 'zealously', 'concluded', 'consisted', 'no', 'gentleman', 'it.', 'sitting', 'mistake', 'towards', 'few', 'country', 'you', 'delighted', 'two', 'rapturous', 'objection', 'happiness', 'something', 'the.', 'nay', 'impossible', 'partiality', 'unaffected.', 'norland', 'adapted', 'put', 'ham', 'cordial.', 'ladies', 'talked', 'may', 'shy', 'basket', 'narrow', 'see.', 'him', 'distrusts', 'sportsmen.', 'tolerably', 'pretended', 'earnestly', 'sex', 'scale', 'style', 'truth', 'ought.', 'effect', 'up', 'depend', 'seemed.', 'elegance', 'gay', 'disposed.', 'we', 'rent', 'been', 'part', 'what.', 'an', 'sportsman', 'offending', 'provision', 'education.', 'uncommonly', 'discovered', 'far.', 'equally', 'minutes', 'hastily.', 'hung', 'give', 'rest', 'half.', 'painful', 'comfort', 'manners.', 'now', 'manners', 'use', 'has', 'company', 'believe', 'parlors.', 'least', 'nor', 'party', 'wrote', 'while', 'did.', 'excuse', 'formed', 'agreed', 'admire', 'result', 'parish.', 'set', 'and', 'travelling.', 'allowance', 'sweetness', 'direction', 'necessary.', 'principle', 'oh', 'explained', 'excellent', 'suspected', 'conveying', 'in.', 'did', 'perfectly', 'described.', 'whether', 'article', 'spirits', 'new', 'covered', 'hastily', 'her.', 'money', 'witty', 'books', 'son', 'add.', 'chicken', 'evening', 'proceed', 'pretend', 'mrs.', 'at', 'missed', 'advice', 'it', 'sister.', 'miss', 'told', 'dull', 'knew', 'spot', 'near', 'can.', 'spirit', 'entire', 'called.', 'paid', 'was', 'hill', 'high.', 'advantages', 'dissimilar', 'terminated', 'projecting.', 'prevailed', 'discovery', 'immediate', 'ye', 'at.', 'repair', 'summer', 'winter', 'living', 'feebly', 'pretty', 'his.', 'sense', 'known', 'these', 'since.', 'shortly', 'respect', 'ask', 'cousins', 'brought', 'add', 'tedious', 'nay.', 'expect', 'relied', 'genius', 'around', 'hearts', 'genius.', 'raptures', 'daughter', 'branched', 'laughter', 'peculiar', 'settling.', 'denoting', 'properly', 'jointure', 'occasion', 'directly', 'raillery.', 'said', 'poor', 'be', 'post', 'face', 'snug.', 'introduced', 'imprudence', 'say', 'unpleasing', 'devonshire', 'son.', 'exeter', 'longer', 'wisdom', 'design', 'age.', 'weather', 'entered', 'showing', 'service.', 'repeated', 'speaking', 'appetite.', 'pasture', 'observe.', 'snug', 'hand', 'dare', 'here', 'too.', 'before', 'except', 'moment', 'myself.', 'dejection', 'assurance', 'certainly.', 'gate', 'only', 'none', 'open.', 'betrayed', 'graceful', 'dinner', 'abroad', 'depart', 'turned', 'wished.', 'too', 'man', 'families', 'goodness', 'all', 'eat', 'out', 'steepest', 'servants.', 'the', 'incommode', 'improving', 'northward', 'eat.', 'received', 'possible', 'you.', 'shew', 'park', 'own', 'loud', 'less', '.']\n",
            "# unique words: 419\n"
          ],
          "name": "stdout"
        }
      ]
    },
    {
      "cell_type": "markdown",
      "metadata": {
        "id": "FJDjZ_Nkhv4P",
        "colab_type": "text"
      },
      "source": [
        "## **Find vocabulary embedding vectors by a pre-trained model**"
      ]
    },
    {
      "cell_type": "code",
      "metadata": {
        "id": "PoCEqYNziIqk",
        "colab_type": "code",
        "colab": {}
      },
      "source": [
        "embeddingSpace = []\n",
        "for w in range(len(vocabulary_cover)):\n",
        "  # print(vocabulary_cover[w])\n",
        "  embeddingSpace.append(ft.get_word_vector(vocabulary_cover[w]))\n",
        "# print(embeddingSpace[0])\n",
        "# print (len(embeddingSpace)) # It shows the number of vocabulary NB: it should be same as the num of vocabulary \n",
        "# print (len(embeddingSpace[0])) # embedding size for each word (By default:300)"
      ],
      "execution_count": 0,
      "outputs": []
    },
    {
      "cell_type": "markdown",
      "metadata": {
        "id": "0bjV8Bxcyn8I",
        "colab_type": "text"
      },
      "source": [
        "## **Save EmbeddingSpace into the Panda dataframe and CSV file**"
      ]
    },
    {
      "cell_type": "code",
      "metadata": {
        "id": "PupdDdd1ynOg",
        "colab_type": "code",
        "outputId": "e3a39698-de13-45bd-c122-3e6297a067b7",
        "colab": {
          "base_uri": "https://localhost:8080/",
          "height": 34
        }
      },
      "source": [
        "import numpy as np\n",
        "import pandas as pd\n",
        "embeddingSpace = pd.DataFrame(np.array(embeddingSpace))\n",
        "embeddingSpace = embeddingSpace.transpose() # Assuming each word as a featue\n",
        "print(embeddingSpace.shape) # NB: Shape of dataframe #rows=300=embedding size and columns = vocabs #"
      ],
      "execution_count": 0,
      "outputs": [
        {
          "output_type": "stream",
          "text": [
            "(300, 419)\n"
          ],
          "name": "stdout"
        }
      ]
    },
    {
      "cell_type": "code",
      "metadata": {
        "id": "SePjA92sAD5K",
        "colab_type": "code",
        "outputId": "5a3ebd9c-f93c-44c6-a9f4-a1ce97ebe1d5",
        "colab": {
          "base_uri": "https://localhost:8080/",
          "height": 238
        }
      },
      "source": [
        "# print(embeddingSpace.iloc[0, 0:])\n",
        "embeddingSpace.columns = vocabulary_cover # change the column names from number to vocabulary\n",
        "print (embeddingSpace.head(10))"
      ],
      "execution_count": 0,
      "outputs": [
        {
          "output_type": "stream",
          "text": [
            "    demesne       far   hearted  ...      loud      less         .\n",
            "0  0.046823 -0.185514 -0.003144  ... -0.123823 -0.080475 -0.111124\n",
            "1  0.269755  0.015872 -0.020594  ... -0.103606  0.052409 -0.001386\n",
            "2 -0.361431 -0.039883 -0.147427  ... -0.090466 -0.282088 -0.177799\n",
            "3  0.374108  0.186483  0.199894  ...  0.323784  0.057344  0.064508\n",
            "4  0.089238  0.043087  0.057185  ...  0.032872  0.181122 -0.240374\n",
            "5 -0.017216  0.180061  0.103046  ... -0.103981 -0.041814  0.031087\n",
            "6 -0.044682  0.139298 -0.025026  ... -0.110608  0.174706 -0.030144\n",
            "7 -0.070461 -0.053945  0.209034  ...  0.089895 -0.281392 -0.368828\n",
            "8  0.048772 -0.064611  0.277832  ...  0.312790  0.304272 -0.043855\n",
            "9  0.450169  0.216881  0.297503  ... -0.028522  0.269600  0.248308\n",
            "\n",
            "[10 rows x 419 columns]\n"
          ],
          "name": "stdout"
        }
      ]
    },
    {
      "cell_type": "code",
      "metadata": {
        "id": "87Lz4-5ZNEgH",
        "colab_type": "code",
        "colab": {}
      },
      "source": [
        "embeddingSpace.to_csv('/content/drive/My Drive/Colab Notebooks/TxtSteganography/cover_text_embedding.csv', sep='\\t', encoding='utf-8')\n"
      ],
      "execution_count": 0,
      "outputs": []
    }
  ]
}