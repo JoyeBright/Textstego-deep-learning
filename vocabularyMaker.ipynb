{
  "nbformat": 4,
  "nbformat_minor": 0,
  "metadata": {
    "colab": {
      "name": "vocabularyMaker.ipynb",
      "provenance": [],
      "collapsed_sections": [],
      "mount_file_id": "1FJ1iaMwGxsO3VRrAJf-9vPxOctv-cckB",
      "authorship_tag": "ABX9TyMhDEPQRhHNmJdfD0I7GJw7"
    },
    "kernelspec": {
      "name": "python3",
      "display_name": "Python 3"
    }
  },
  "cells": [
    {
      "cell_type": "markdown",
      "metadata": {
        "id": "ISn5VgbEidSB",
        "colab_type": "text"
      },
      "source": [
        "## **Load Cover Text**"
      ]
    },
    {
      "cell_type": "code",
      "metadata": {
        "id": "yp9-6DRFgDdT",
        "colab_type": "code",
        "outputId": "eb8da578-c35b-454e-e5cb-d2fb3f8a7ca4",
        "colab": {
          "base_uri": "https://localhost:8080/",
          "height": 34
        }
      },
      "source": [
        "from google.colab import drive\n",
        "drive.mount('/content/drive')"
      ],
      "execution_count": 0,
      "outputs": [
        {
          "output_type": "stream",
          "text": [
            "Drive already mounted at /content/drive; to attempt to forcibly remount, call drive.mount(\"/content/drive\", force_remount=True).\n"
          ],
          "name": "stdout"
        }
      ]
    },
    {
      "cell_type": "code",
      "metadata": {
        "id": "sPteU5Z6k0-m",
        "colab_type": "code",
        "outputId": "5b695e1d-f810-4b8c-996d-6de51b5d33a0",
        "colab": {
          "base_uri": "https://localhost:8080/",
          "height": 54
        }
      },
      "source": [
        "with open('/content/drive/My Drive/Colab Notebooks/TxtSteganography/cover_text.txt', 'r') as file:\n",
        "    data = file.read().replace('\\n', '')\n",
        "    print(data)"
      ],
      "execution_count": 0,
      "outputs": [
        {
          "output_type": "stream",
          "text": [
            "Demesne far hearted suppose venture excited see had has. Dependent on so extremely delivered by. Yet ﻿no jokes worse her why. Bed one supposing breakfast day fulfilled off depending questions. Whatever boy her exertion his extended. Ecstatic followed handsome drawings entirely mrs one yet outweigh. Of acceptance insipidity remarkably is invitation. Bed sincerity yet therefore forfeited his certainty neglected questions. Pursuit chamber as elderly amongst on. Distant however warrant farther to of. My justice wishing prudent waiting in be. Comparison age not pianoforte increasing delightful now. Insipidity sufficient dispatched any reasonably led ask. Announcing if attachment resolution sentiments admiration me on diminution. She wholly fat who window extent either formal. Removing welcomed civility or hastened is. Justice elderly but perhaps expense six her are another passage. Full her ten open fond walk not down. For request general express unknown are. He in just mr door body held john down he. So journey greatly or garrets. Draw door kept do so come on open mean. Estimating stimulated how reasonably precaution diminution she simplicity sir but. Questions am sincerity zealously concluded consisted or no gentleman it. Sitting mistake towards his few country ask. You delighted two rapturous six depending objection happiness something the. Off nay impossible dispatched partiality unaffected. Norland adapted put ham cordial. Ladies talked may shy basket narrow see. Him she distrusts questions sportsmen. Tolerably pretended neglected on my earnestly by. Sex scale sir style truth ought. Effect if in up no depend seemed. Ecstatic elegance gay but disposed. We me rent been part what. An concluded sportsman offending so provision mr education. Bed uncommonly his discovered for estimating far. Equally he minutes my hastily. Up hung mr we give rest half. Painful so he an comfort is manners. Now for manners use has company believe parlors. Least nor party who wrote while did. Excuse formed as is agreed admire so on result parish. Put use set uncommonly announcing and travelling. Allowance sweetness direction to as necessary. Principle oh explained excellent do my suspected conveying in. Excellent you did therefore perfectly supposing described. Whether article spirits new her covered hastily sitting her. Money witty books nor son add. Chicken age had evening believe but proceed pretend mrs. At missed advice my it no sister. Miss told ham dull knew see she spot near can. Spirit her entire her called. Paid was hill sir high. For him precaution any advantages dissimilar comparison few terminated projecting. Prevailed discovery immediate objection of ye at. Repair summer one winter living feebly pretty his. In so sense am known these since. Shortly respect ask cousins brought add tedious nay. Expect relied do we genius is. On as around spirit of hearts genius. Is raptures daughter branched laughter peculiar in settling. Had denoting properly jointure you occasion directly raillery. In said to of poor full be post face snug. Introduced imprudence see say unpleasing devonshire acceptance son. Exeter longer wisdom gay nor design age. Am weather to entered norland no in showing service. Nor repeated speaking shy appetite. Excited it hastily an pasture it observe. Snug hand how dare here too. Two before narrow not relied how except moment myself. Dejection assurance mrs led certainly. So gate at no only none open. Betrayed at properly it of graceful on. Dinner abroad am depart ye turned hearts as me wished. Therefore allowance too perfectly gentleman supposing man his now. Families goodness all eat out bed steepest servants. Explained the incommode sir improving northward immediate eat. Man denoting received you sex possible you. Shew park own loud son door less yet. \n"
          ],
          "name": "stdout"
        }
      ]
    },
    {
      "cell_type": "markdown",
      "metadata": {
        "id": "59j0yPdgMXYB",
        "colab_type": "text"
      },
      "source": [
        "## **Word Tokenize**"
      ]
    },
    {
      "cell_type": "code",
      "metadata": {
        "id": "ep2RYO4NMXAW",
        "colab_type": "code",
        "outputId": "dd8cd7d4-9ff6-46b5-d9d6-8bceec6e4b35",
        "colab": {
          "base_uri": "https://localhost:8080/",
          "height": 122
        }
      },
      "source": [
        "import nltk\n",
        "nltk.download('punkt')\n",
        "from nltk.tokenize import TreebankWordTokenizer\n",
        "  \n",
        "initial_tokens = TreebankWordTokenizer().tokenize(data)\n",
        "print(initial_tokens)\n",
        "vocabulary = []\n",
        "for token in initial_tokens:\n",
        "  # print(token)\n",
        "  if token.lower() not in vocabulary: # stop adding repetitve token\n",
        "    vocabulary.append(token.lower()) # convert to lower case\n",
        "\n",
        "print(vocabulary)\n",
        "print (\"# unique words:\", len(vocabulary))\n"
      ],
      "execution_count": 0,
      "outputs": [
        {
          "output_type": "stream",
          "text": [
            "[nltk_data] Downloading package punkt to /root/nltk_data...\n",
            "[nltk_data]   Package punkt is already up-to-date!\n",
            "['Demesne', 'far', 'hearted', 'suppose', 'venture', 'excited', 'see', 'had', 'has.', 'Dependent', 'on', 'so', 'extremely', 'delivered', 'by.', 'Yet', '\\ufeffno', 'jokes', 'worse', 'her', 'why.', 'Bed', 'one', 'supposing', 'breakfast', 'day', 'fulfilled', 'off', 'depending', 'questions.', 'Whatever', 'boy', 'her', 'exertion', 'his', 'extended.', 'Ecstatic', 'followed', 'handsome', 'drawings', 'entirely', 'mrs', 'one', 'yet', 'outweigh.', 'Of', 'acceptance', 'insipidity', 'remarkably', 'is', 'invitation.', 'Bed', 'sincerity', 'yet', 'therefore', 'forfeited', 'his', 'certainty', 'neglected', 'questions.', 'Pursuit', 'chamber', 'as', 'elderly', 'amongst', 'on.', 'Distant', 'however', 'warrant', 'farther', 'to', 'of.', 'My', 'justice', 'wishing', 'prudent', 'waiting', 'in', 'be.', 'Comparison', 'age', 'not', 'pianoforte', 'increasing', 'delightful', 'now.', 'Insipidity', 'sufficient', 'dispatched', 'any', 'reasonably', 'led', 'ask.', 'Announcing', 'if', 'attachment', 'resolution', 'sentiments', 'admiration', 'me', 'on', 'diminution.', 'She', 'wholly', 'fat', 'who', 'window', 'extent', 'either', 'formal.', 'Removing', 'welcomed', 'civility', 'or', 'hastened', 'is.', 'Justice', 'elderly', 'but', 'perhaps', 'expense', 'six', 'her', 'are', 'another', 'passage.', 'Full', 'her', 'ten', 'open', 'fond', 'walk', 'not', 'down.', 'For', 'request', 'general', 'express', 'unknown', 'are.', 'He', 'in', 'just', 'mr', 'door', 'body', 'held', 'john', 'down', 'he.', 'So', 'journey', 'greatly', 'or', 'garrets.', 'Draw', 'door', 'kept', 'do', 'so', 'come', 'on', 'open', 'mean.', 'Estimating', 'stimulated', 'how', 'reasonably', 'precaution', 'diminution', 'she', 'simplicity', 'sir', 'but.', 'Questions', 'am', 'sincerity', 'zealously', 'concluded', 'consisted', 'or', 'no', 'gentleman', 'it.', 'Sitting', 'mistake', 'towards', 'his', 'few', 'country', 'ask.', 'You', 'delighted', 'two', 'rapturous', 'six', 'depending', 'objection', 'happiness', 'something', 'the.', 'Off', 'nay', 'impossible', 'dispatched', 'partiality', 'unaffected.', 'Norland', 'adapted', 'put', 'ham', 'cordial.', 'Ladies', 'talked', 'may', 'shy', 'basket', 'narrow', 'see.', 'Him', 'she', 'distrusts', 'questions', 'sportsmen.', 'Tolerably', 'pretended', 'neglected', 'on', 'my', 'earnestly', 'by.', 'Sex', 'scale', 'sir', 'style', 'truth', 'ought.', 'Effect', 'if', 'in', 'up', 'no', 'depend', 'seemed.', 'Ecstatic', 'elegance', 'gay', 'but', 'disposed.', 'We', 'me', 'rent', 'been', 'part', 'what.', 'An', 'concluded', 'sportsman', 'offending', 'so', 'provision', 'mr', 'education.', 'Bed', 'uncommonly', 'his', 'discovered', 'for', 'estimating', 'far.', 'Equally', 'he', 'minutes', 'my', 'hastily.', 'Up', 'hung', 'mr', 'we', 'give', 'rest', 'half.', 'Painful', 'so', 'he', 'an', 'comfort', 'is', 'manners.', 'Now', 'for', 'manners', 'use', 'has', 'company', 'believe', 'parlors.', 'Least', 'nor', 'party', 'who', 'wrote', 'while', 'did.', 'Excuse', 'formed', 'as', 'is', 'agreed', 'admire', 'so', 'on', 'result', 'parish.', 'Put', 'use', 'set', 'uncommonly', 'announcing', 'and', 'travelling.', 'Allowance', 'sweetness', 'direction', 'to', 'as', 'necessary.', 'Principle', 'oh', 'explained', 'excellent', 'do', 'my', 'suspected', 'conveying', 'in.', 'Excellent', 'you', 'did', 'therefore', 'perfectly', 'supposing', 'described.', 'Whether', 'article', 'spirits', 'new', 'her', 'covered', 'hastily', 'sitting', 'her.', 'Money', 'witty', 'books', 'nor', 'son', 'add.', 'Chicken', 'age', 'had', 'evening', 'believe', 'but', 'proceed', 'pretend', 'mrs.', 'At', 'missed', 'advice', 'my', 'it', 'no', 'sister.', 'Miss', 'told', 'ham', 'dull', 'knew', 'see', 'she', 'spot', 'near', 'can.', 'Spirit', 'her', 'entire', 'her', 'called.', 'Paid', 'was', 'hill', 'sir', 'high.', 'For', 'him', 'precaution', 'any', 'advantages', 'dissimilar', 'comparison', 'few', 'terminated', 'projecting.', 'Prevailed', 'discovery', 'immediate', 'objection', 'of', 'ye', 'at.', 'Repair', 'summer', 'one', 'winter', 'living', 'feebly', 'pretty', 'his.', 'In', 'so', 'sense', 'am', 'known', 'these', 'since.', 'Shortly', 'respect', 'ask', 'cousins', 'brought', 'add', 'tedious', 'nay.', 'Expect', 'relied', 'do', 'we', 'genius', 'is.', 'On', 'as', 'around', 'spirit', 'of', 'hearts', 'genius.', 'Is', 'raptures', 'daughter', 'branched', 'laughter', 'peculiar', 'in', 'settling.', 'Had', 'denoting', 'properly', 'jointure', 'you', 'occasion', 'directly', 'raillery.', 'In', 'said', 'to', 'of', 'poor', 'full', 'be', 'post', 'face', 'snug.', 'Introduced', 'imprudence', 'see', 'say', 'unpleasing', 'devonshire', 'acceptance', 'son.', 'Exeter', 'longer', 'wisdom', 'gay', 'nor', 'design', 'age.', 'Am', 'weather', 'to', 'entered', 'norland', 'no', 'in', 'showing', 'service.', 'Nor', 'repeated', 'speaking', 'shy', 'appetite.', 'Excited', 'it', 'hastily', 'an', 'pasture', 'it', 'observe.', 'Snug', 'hand', 'how', 'dare', 'here', 'too.', 'Two', 'before', 'narrow', 'not', 'relied', 'how', 'except', 'moment', 'myself.', 'Dejection', 'assurance', 'mrs', 'led', 'certainly.', 'So', 'gate', 'at', 'no', 'only', 'none', 'open.', 'Betrayed', 'at', 'properly', 'it', 'of', 'graceful', 'on.', 'Dinner', 'abroad', 'am', 'depart', 'ye', 'turned', 'hearts', 'as', 'me', 'wished.', 'Therefore', 'allowance', 'too', 'perfectly', 'gentleman', 'supposing', 'man', 'his', 'now.', 'Families', 'goodness', 'all', 'eat', 'out', 'bed', 'steepest', 'servants.', 'Explained', 'the', 'incommode', 'sir', 'improving', 'northward', 'immediate', 'eat.', 'Man', 'denoting', 'received', 'you', 'sex', 'possible', 'you.', 'Shew', 'park', 'own', 'loud', 'son', 'door', 'less', 'yet', '.']\n",
            "['demesne', 'far', 'hearted', 'suppose', 'venture', 'excited', 'see', 'had', 'has.', 'dependent', 'on', 'so', 'extremely', 'delivered', 'by.', 'yet', '\\ufeffno', 'jokes', 'worse', 'her', 'why.', 'bed', 'one', 'supposing', 'breakfast', 'day', 'fulfilled', 'off', 'depending', 'questions.', 'whatever', 'boy', 'exertion', 'his', 'extended.', 'ecstatic', 'followed', 'handsome', 'drawings', 'entirely', 'mrs', 'outweigh.', 'of', 'acceptance', 'insipidity', 'remarkably', 'is', 'invitation.', 'sincerity', 'therefore', 'forfeited', 'certainty', 'neglected', 'pursuit', 'chamber', 'as', 'elderly', 'amongst', 'on.', 'distant', 'however', 'warrant', 'farther', 'to', 'of.', 'my', 'justice', 'wishing', 'prudent', 'waiting', 'in', 'be.', 'comparison', 'age', 'not', 'pianoforte', 'increasing', 'delightful', 'now.', 'sufficient', 'dispatched', 'any', 'reasonably', 'led', 'ask.', 'announcing', 'if', 'attachment', 'resolution', 'sentiments', 'admiration', 'me', 'diminution.', 'she', 'wholly', 'fat', 'who', 'window', 'extent', 'either', 'formal.', 'removing', 'welcomed', 'civility', 'or', 'hastened', 'is.', 'but', 'perhaps', 'expense', 'six', 'are', 'another', 'passage.', 'full', 'ten', 'open', 'fond', 'walk', 'down.', 'for', 'request', 'general', 'express', 'unknown', 'are.', 'he', 'just', 'mr', 'door', 'body', 'held', 'john', 'down', 'he.', 'journey', 'greatly', 'garrets.', 'draw', 'kept', 'do', 'come', 'mean.', 'estimating', 'stimulated', 'how', 'precaution', 'diminution', 'simplicity', 'sir', 'but.', 'questions', 'am', 'zealously', 'concluded', 'consisted', 'no', 'gentleman', 'it.', 'sitting', 'mistake', 'towards', 'few', 'country', 'you', 'delighted', 'two', 'rapturous', 'objection', 'happiness', 'something', 'the.', 'nay', 'impossible', 'partiality', 'unaffected.', 'norland', 'adapted', 'put', 'ham', 'cordial.', 'ladies', 'talked', 'may', 'shy', 'basket', 'narrow', 'see.', 'him', 'distrusts', 'sportsmen.', 'tolerably', 'pretended', 'earnestly', 'sex', 'scale', 'style', 'truth', 'ought.', 'effect', 'up', 'depend', 'seemed.', 'elegance', 'gay', 'disposed.', 'we', 'rent', 'been', 'part', 'what.', 'an', 'sportsman', 'offending', 'provision', 'education.', 'uncommonly', 'discovered', 'far.', 'equally', 'minutes', 'hastily.', 'hung', 'give', 'rest', 'half.', 'painful', 'comfort', 'manners.', 'now', 'manners', 'use', 'has', 'company', 'believe', 'parlors.', 'least', 'nor', 'party', 'wrote', 'while', 'did.', 'excuse', 'formed', 'agreed', 'admire', 'result', 'parish.', 'set', 'and', 'travelling.', 'allowance', 'sweetness', 'direction', 'necessary.', 'principle', 'oh', 'explained', 'excellent', 'suspected', 'conveying', 'in.', 'did', 'perfectly', 'described.', 'whether', 'article', 'spirits', 'new', 'covered', 'hastily', 'her.', 'money', 'witty', 'books', 'son', 'add.', 'chicken', 'evening', 'proceed', 'pretend', 'mrs.', 'at', 'missed', 'advice', 'it', 'sister.', 'miss', 'told', 'dull', 'knew', 'spot', 'near', 'can.', 'spirit', 'entire', 'called.', 'paid', 'was', 'hill', 'high.', 'advantages', 'dissimilar', 'terminated', 'projecting.', 'prevailed', 'discovery', 'immediate', 'ye', 'at.', 'repair', 'summer', 'winter', 'living', 'feebly', 'pretty', 'his.', 'sense', 'known', 'these', 'since.', 'shortly', 'respect', 'ask', 'cousins', 'brought', 'add', 'tedious', 'nay.', 'expect', 'relied', 'genius', 'around', 'hearts', 'genius.', 'raptures', 'daughter', 'branched', 'laughter', 'peculiar', 'settling.', 'denoting', 'properly', 'jointure', 'occasion', 'directly', 'raillery.', 'said', 'poor', 'be', 'post', 'face', 'snug.', 'introduced', 'imprudence', 'say', 'unpleasing', 'devonshire', 'son.', 'exeter', 'longer', 'wisdom', 'design', 'age.', 'weather', 'entered', 'showing', 'service.', 'repeated', 'speaking', 'appetite.', 'pasture', 'observe.', 'snug', 'hand', 'dare', 'here', 'too.', 'before', 'except', 'moment', 'myself.', 'dejection', 'assurance', 'certainly.', 'gate', 'only', 'none', 'open.', 'betrayed', 'graceful', 'dinner', 'abroad', 'depart', 'turned', 'wished.', 'too', 'man', 'families', 'goodness', 'all', 'eat', 'out', 'steepest', 'servants.', 'the', 'incommode', 'improving', 'northward', 'eat.', 'received', 'possible', 'you.', 'shew', 'park', 'own', 'loud', 'less', '.']\n",
            "# unique words: 419\n"
          ],
          "name": "stdout"
        }
      ]
    },
    {
      "cell_type": "markdown",
      "metadata": {
        "id": "qh3ABvGmP5lE",
        "colab_type": "text"
      },
      "source": [
        "## **Save Vocabulary list into vocabulary-cover.txt**"
      ]
    },
    {
      "cell_type": "code",
      "metadata": {
        "id": "8rzoLFu-QReD",
        "colab_type": "code",
        "colab": {}
      },
      "source": [
        "with open ('/content/drive/My Drive/Colab Notebooks/TxtSteganography/vocabulary_cover.txt', \"w\") as f:\n",
        "  for s in vocabulary:\n",
        "    f.write(str(s) + \"\\n\")"
      ],
      "execution_count": 0,
      "outputs": []
    }
  ]
}