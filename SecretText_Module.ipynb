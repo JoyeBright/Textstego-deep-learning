{
  "nbformat": 4,
  "nbformat_minor": 0,
  "metadata": {
    "colab": {
      "name": "SecretText_Module.ipynb",
      "provenance": [],
      "collapsed_sections": [
        "qxVHisXPogE_",
        "BAAoAr8LucIk",
        "u-0jN6kVrauQ",
        "ULRQ4w5FaxDm",
        "k4aDGvsTxaCh",
        "PkuOQsLby3Gn",
        "KwNEqaNBy3bY"
      ],
      "authorship_tag": "ABX9TyPXJ59W0MLCzFHrm3oy+Kbg",
      "include_colab_link": true
    },
    "kernelspec": {
      "name": "python3",
      "display_name": "Python 3"
    }
  },
  "cells": [
    {
      "cell_type": "markdown",
      "metadata": {
        "id": "view-in-github",
        "colab_type": "text"
      },
      "source": [
        "<a href=\"https://colab.research.google.com/github/JoyeBright/TxtStego-deep-learning/blob/master/SecretText_Module.ipynb\" target=\"_parent\"><img src=\"https://colab.research.google.com/assets/colab-badge.svg\" alt=\"Open In Colab\"/></a>"
      ]
    },
    {
      "cell_type": "markdown",
      "metadata": {
        "id": "2oW3mZAtj5p2",
        "colab_type": "text"
      },
      "source": [
        "# **Secret Data**"
      ]
    },
    {
      "cell_type": "code",
      "metadata": {
        "id": "a_nT9oYhY5_2",
        "colab_type": "code",
        "colab": {
          "base_uri": "https://localhost:8080/",
          "height": 34
        },
        "outputId": "7bdaeda9-637e-4fec-c2e5-9916c4befe87"
      },
      "source": [
        "text=\"this is a secret bit stream.\"\n",
        "print(\"number of chars in secret bit:\", len(text))"
      ],
      "execution_count": 1,
      "outputs": [
        {
          "output_type": "stream",
          "text": [
            "number of chars in secret bit: 28\n"
          ],
          "name": "stdout"
        }
      ]
    },
    {
      "cell_type": "markdown",
      "metadata": {
        "id": "VVoFSwFgkBJB",
        "colab_type": "text"
      },
      "source": [
        "# **ASCII Text to Binary**"
      ]
    },
    {
      "cell_type": "code",
      "metadata": {
        "id": "LlqhPSWcaH2Q",
        "colab_type": "code",
        "colab": {}
      },
      "source": [
        "import binascii\n",
        "\n",
        "def text_to_bits(text, encoding='utf-8', errors='surrogatepass'):\n",
        "    bits = bin(int(binascii.hexlify(text.encode(encoding, errors)), 16))[2:]\n",
        "    return bits.zfill(8 * ((len(bits) + 7) // 8))"
      ],
      "execution_count": 2,
      "outputs": []
    },
    {
      "cell_type": "code",
      "metadata": {
        "id": "QpDxD1C3cXJz",
        "colab_type": "code",
        "colab": {}
      },
      "source": [
        "binary = (text_to_bits(text))"
      ],
      "execution_count": 3,
      "outputs": []
    },
    {
      "cell_type": "code",
      "metadata": {
        "id": "9DDYRCBWhC8C",
        "colab_type": "code",
        "colab": {
          "base_uri": "https://localhost:8080/",
          "height": 88
        },
        "outputId": "a2b268fe-24b5-4d63-dfc4-9ced16de5ef5"
      },
      "source": [
        "print(\"The binary bitsream:\", binary)\n",
        "print(\"Bistream length:\", len(binary))\n",
        "print(\"Bistream characters:\",int(len(binary)/8))"
      ],
      "execution_count": 4,
      "outputs": [
        {
          "output_type": "stream",
          "text": [
            "The binary bitsream: 01110100011010000110100101110011001000000110100101110011001000000110000100100000011100110110010101100011011100100110010101110100001000000110001001101001011101000010000001110011011101000111001001100101011000010110110100101110\n",
            "Bistream length: 224\n",
            "Bistream characters: 28\n"
          ],
          "name": "stdout"
        }
      ]
    },
    {
      "cell_type": "markdown",
      "metadata": {
        "id": "lWrgZTMdklMV",
        "colab_type": "text"
      },
      "source": [
        "# **Binary to Decimal**"
      ]
    },
    {
      "cell_type": "code",
      "metadata": {
        "id": "WGtNtnltdGtG",
        "colab_type": "code",
        "colab": {}
      },
      "source": [
        "def binToDec(n=binary):\n",
        "   decimal = 0\n",
        "   for d in binary:\n",
        "     decimal = decimal*2 + int(d)\n",
        "   return decimal"
      ],
      "execution_count": 5,
      "outputs": []
    },
    {
      "cell_type": "code",
      "metadata": {
        "id": "giOmJ1kiktGC",
        "colab_type": "code",
        "colab": {
          "base_uri": "https://localhost:8080/",
          "height": 51
        },
        "outputId": "70348824-7233-4c49-e2c9-49bf6aed3bc3"
      },
      "source": [
        "print(\"Decimal value of bistream:\", binToDec())\n",
        "print(len(str(binToDec())))"
      ],
      "execution_count": 22,
      "outputs": [
        {
          "output_type": "stream",
          "text": [
            "Decimal value of bistream: 12259178403199069570342758845700850558725039128334999982059829685550\n",
            "68\n"
          ],
          "name": "stdout"
        }
      ]
    },
    {
      "cell_type": "markdown",
      "metadata": {
        "id": "qxVHisXPogE_",
        "colab_type": "text"
      },
      "source": [
        "# **Decimal to Binary (Test)**"
      ]
    },
    {
      "cell_type": "code",
      "metadata": {
        "id": "GGaAV8kajSY9",
        "colab_type": "code",
        "colab": {}
      },
      "source": [
        "def decToBin(n=binToDec()):\n",
        "    if n==0: return ''\n",
        "    else:\n",
        "        return decToBin(n//2) + str(n%2)"
      ],
      "execution_count": 7,
      "outputs": []
    },
    {
      "cell_type": "code",
      "metadata": {
        "id": "Ba94yNZxjT-Z",
        "colab_type": "code",
        "colab": {
          "base_uri": "https://localhost:8080/",
          "height": 71
        },
        "outputId": "869553fa-9ef4-41c5-c54b-417f43d2cf0e"
      },
      "source": [
        "print(\"Binary bitstream:\", decToBin())\n",
        "print(\"Bistream length:\", len(decToBin()))"
      ],
      "execution_count": 8,
      "outputs": [
        {
          "output_type": "stream",
          "text": [
            "Binary bitstream: 1110100011010000110100101110011001000000110100101110011001000000110000100100000011100110110010101100011011100100110010101110100001000000110001001101001011101000010000001110011011101000111001001100101011000010110110100101110\n",
            "Bistream length: 223\n"
          ],
          "name": "stdout"
        }
      ]
    },
    {
      "cell_type": "markdown",
      "metadata": {
        "id": "BAAoAr8LucIk",
        "colab_type": "text"
      },
      "source": [
        "# **Binary to ASCII (Test)**"
      ]
    },
    {
      "cell_type": "code",
      "metadata": {
        "id": "cBprveEhujgB",
        "colab_type": "code",
        "colab": {}
      },
      "source": [
        "def text_from_bits(bits, encoding='utf-8', errors='surrogatepass'):\n",
        "    n = int(bits, 2)\n",
        "    return int2bytes(n).decode(encoding, errors)\n",
        "def int2bytes(i):\n",
        "    hex_string = '%x' % i\n",
        "    n = len(hex_string)\n",
        "    return binascii.unhexlify(hex_string.zfill(n + (n & 1)))"
      ],
      "execution_count": 9,
      "outputs": []
    },
    {
      "cell_type": "code",
      "metadata": {
        "id": "P9oZOCS5u4jw",
        "colab_type": "code",
        "colab": {
          "base_uri": "https://localhost:8080/",
          "height": 34
        },
        "outputId": "8d41a42f-0f41-41c2-e353-a09f3ffac42b"
      },
      "source": [
        "print(text_from_bits(decToBin()))"
      ],
      "execution_count": 10,
      "outputs": [
        {
          "output_type": "stream",
          "text": [
            "this is a secret bit stream.\n"
          ],
          "name": "stdout"
        }
      ]
    },
    {
      "cell_type": "markdown",
      "metadata": {
        "id": "lbcguiQfdNLg",
        "colab_type": "text"
      },
      "source": [
        "# **Data Preparation**\n",
        "\n",
        "*Take apart 4 digits and for them as a number*"
      ]
    },
    {
      "cell_type": "code",
      "metadata": {
        "id": "z7UlyRkXdeUy",
        "colab_type": "code",
        "colab": {
          "base_uri": "https://localhost:8080/",
          "height": 68
        },
        "outputId": "2600c8b4-1c6f-4b08-ccf8-84cd91b7e2ce"
      },
      "source": [
        "print(binToDec())\n",
        "digits = [int(d) for d in str(binToDec())]\n",
        "#print(digits)\n",
        "#print(len(digits))\n",
        "num = []\n",
        "for n in range(0, len(digits), 4):\n",
        "  num.append(int(str(digits[n])+''+str(digits[n+1])+''+str(digits[n+2])+''+str(digits[n+3])))\n",
        "signal = num\n",
        "print(signal)\n",
        "print(len(signal))"
      ],
      "execution_count": 19,
      "outputs": [
        {
          "output_type": "stream",
          "text": [
            "12259178403199069570342758845700850558725039128334999982059829685550\n",
            "[1225, 9178, 4031, 9906, 9570, 3427, 5884, 5700, 8505, 5872, 5039, 1283, 3499, 9982, 598, 2968, 5550]\n",
            "17\n"
          ],
          "name": "stdout"
        }
      ]
    },
    {
      "cell_type": "markdown",
      "metadata": {
        "id": "xaSJr-QdpfWC",
        "colab_type": "text"
      },
      "source": [
        "# **DWT**"
      ]
    },
    {
      "cell_type": "markdown",
      "metadata": {
        "id": "u-0jN6kVrauQ",
        "colab_type": "text"
      },
      "source": [
        "## **1D Haar Wavelet Transform**"
      ]
    },
    {
      "cell_type": "code",
      "metadata": {
        "id": "4AUowRAOrf90",
        "colab_type": "code",
        "colab": {
          "base_uri": "https://localhost:8080/",
          "height": 170
        },
        "outputId": "aee4dcaa-68d2-40c9-99b8-f271e799428d"
      },
      "source": [
        "import pywt\n",
        "print(pywt.Wavelet('haar'))\n",
        "cA, cD = pywt.dwt(signal, 'haar', mode='zero')"
      ],
      "execution_count": 40,
      "outputs": [
        {
          "output_type": "stream",
          "text": [
            "Wavelet haar\n",
            "  Family name:    Haar\n",
            "  Short name:     haar\n",
            "  Filters length: 2\n",
            "  Orthogonal:     True\n",
            "  Biorthogonal:   True\n",
            "  Symmetry:       asymmetric\n",
            "  DWT:            True\n",
            "  CWT:            False\n"
          ],
          "name": "stdout"
        }
      ]
    },
    {
      "cell_type": "code",
      "metadata": {
        "id": "t1X56j30r_zr",
        "colab_type": "code",
        "colab": {
          "base_uri": "https://localhost:8080/",
          "height": 119
        },
        "outputId": "b35f7054-c5a4-45e7-c187-8aaf734a5cfe"
      },
      "source": [
        "print(cA)\n",
        "print(cD)"
      ],
      "execution_count": 41,
      "outputs": [
        {
          "output_type": "stream",
          "text": [
            "[ 7356.03184468  9854.9472094   9190.26683508  8191.12495326\n",
            " 10166.07419312  4470.32907066  9532.50651718  2521.54278171\n",
            "  3924.44263559]\n",
            "[-5623.62023078 -4154.25233947  4343.75695683   130.10764774\n",
            "  1861.81215486  2655.89307014 -4584.17326243 -1675.84307141\n",
            "  3924.44263559]\n"
          ],
          "name": "stdout"
        }
      ]
    },
    {
      "cell_type": "markdown",
      "metadata": {
        "id": "ULRQ4w5FaxDm",
        "colab_type": "text"
      },
      "source": [
        "## **Inverse Wavelet**"
      ]
    },
    {
      "cell_type": "code",
      "metadata": {
        "id": "4Wa7NP_NanpK",
        "colab_type": "code",
        "colab": {
          "base_uri": "https://localhost:8080/",
          "height": 68
        },
        "outputId": "58035494-aa34-4b39-ee66-4a9e4ee4ea71"
      },
      "source": [
        "coe = pywt.idwt(cA, cD, 'haar')\n",
        "coe = coe.astype(int)\n",
        "print(pywt.idwt(cA, cD, 'haar'))\n",
        "print(len(pywt.idwt(cA, cD, 'haar')))"
      ],
      "execution_count": 36,
      "outputs": [
        {
          "output_type": "stream",
          "text": [
            "[1225. 9178. 4031. 9906. 9570. 3427. 5884. 5700. 8505. 5872. 5039. 1283.\n",
            " 3499. 9982.  598. 2968. 5550.    0.]\n",
            "18\n"
          ],
          "name": "stdout"
        }
      ]
    },
    {
      "cell_type": "markdown",
      "metadata": {
        "id": "k4aDGvsTxaCh",
        "colab_type": "text"
      },
      "source": [
        "# **Cutomized 1D Haar Wavelet Transform**"
      ]
    },
    {
      "cell_type": "code",
      "metadata": {
        "id": "zq-Tp2dgxZEa",
        "colab_type": "code",
        "colab": {}
      },
      "source": [
        "def haarWavelet(signal):\n",
        "  size = len(signal)\n",
        "  s = []\n",
        "  d = []\n",
        "  index = []\n",
        "  for n in range(0, size, 2):\n",
        "    if(n==size-1): signal.append(signal[n]) #  padding to make a pair (rewrite the last number)\n",
        "    s.append(int((signal[n]+signal[n+1])/(2)))\n",
        "    if((signal[n]+signal[n+1])%2 !=0): index.append(n)\n",
        "    d.append(int((signal[n]-signal[n+1])/(2)))\n",
        "  return s, d, index"
      ],
      "execution_count": 20,
      "outputs": []
    },
    {
      "cell_type": "code",
      "metadata": {
        "id": "GIoEo0znxzZl",
        "colab_type": "code",
        "colab": {
          "base_uri": "https://localhost:8080/",
          "height": 51
        },
        "outputId": "bcacc737-5428-48a9-c13f-062c799f080a"
      },
      "source": [
        "data=[9, 7, 3, 5, 21, 2, 2]\n",
        "cS, cD, Index = haarWavelet(signal)\n",
        "print(cS, cD)\n",
        "print(Index)"
      ],
      "execution_count": 21,
      "outputs": [
        {
          "output_type": "stream",
          "text": [
            "[519, 696, 649, 579, 718, 315, 673, 177, 555] [-397, -293, 307, 9, 131, 187, -324, -118, 0]\n",
            "[0, 2, 4, 8, 10, 12, 14]\n"
          ],
          "name": "stdout"
        }
      ]
    },
    {
      "cell_type": "markdown",
      "metadata": {
        "id": "PkuOQsLby3Gn",
        "colab_type": "text"
      },
      "source": [
        "# **Decimal To Binary (Again)**"
      ]
    },
    {
      "cell_type": "code",
      "metadata": {
        "id": "yq7EIcmpx0sk",
        "colab_type": "code",
        "colab": {
          "base_uri": "https://localhost:8080/",
          "height": 102
        },
        "outputId": "5f1a50ec-eea4-4eb7-d4b7-45f114d5c73e"
      },
      "source": [
        "import numpy as np\n",
        "coefficient = np.concatenate((cS, cD), axis=None)\n",
        "print(coefficient)\n",
        "coefficient = coefficient.astype(str).tolist()\n",
        "print(coefficient)\n",
        "coefficient = ''.join(coefficient)\n",
        "print(coefficient)\n",
        "print(type(coefficient))\n"
      ],
      "execution_count": 44,
      "outputs": [
        {
          "output_type": "stream",
          "text": [
            "[ 519  696  649  579  718  315  673  177  555 -397 -293  307    9  131\n",
            "  187 -324 -118    0]\n",
            "['519', '696', '649', '579', '718', '315', '673', '177', '555', '-397', '-293', '307', '9', '131', '187', '-324', '-118', '0']\n",
            "519696649579718315673177555-397-2933079131187-324-1180\n",
            "<class 'str'>\n"
          ],
          "name": "stdout"
        }
      ]
    },
    {
      "cell_type": "code",
      "metadata": {
        "id": "65HFBbMUy6We",
        "colab_type": "code",
        "colab": {
          "base_uri": "https://localhost:8080/",
          "height": 317
        },
        "outputId": "074cbda2-f0db-4f61-c060-8f0de2a84638"
      },
      "source": [
        "bin = []\n",
        "for n in range(0, len(coefficient)):\n",
        "  bin.append(decToBin(coefficient[n]))\n",
        "new_binary = \"\".join(bin)\n",
        "print(new_binary)\n",
        "print(len(new_binary))"
      ],
      "execution_count": 40,
      "outputs": [
        {
          "output_type": "error",
          "ename": "TypeError",
          "evalue": "ignored",
          "traceback": [
            "\u001b[0;31m---------------------------------------------------------------------------\u001b[0m",
            "\u001b[0;31mTypeError\u001b[0m                                 Traceback (most recent call last)",
            "\u001b[0;32m<ipython-input-40-6e1e4e01afbe>\u001b[0m in \u001b[0;36m<module>\u001b[0;34m()\u001b[0m\n\u001b[1;32m      1\u001b[0m \u001b[0mbin\u001b[0m \u001b[0;34m=\u001b[0m \u001b[0;34m[\u001b[0m\u001b[0;34m]\u001b[0m\u001b[0;34m\u001b[0m\u001b[0;34m\u001b[0m\u001b[0m\n\u001b[1;32m      2\u001b[0m \u001b[0;32mfor\u001b[0m \u001b[0mn\u001b[0m \u001b[0;32min\u001b[0m \u001b[0mrange\u001b[0m\u001b[0;34m(\u001b[0m\u001b[0;36m0\u001b[0m\u001b[0;34m,\u001b[0m \u001b[0mlen\u001b[0m\u001b[0;34m(\u001b[0m\u001b[0mcoefficient\u001b[0m\u001b[0;34m)\u001b[0m\u001b[0;34m)\u001b[0m\u001b[0;34m:\u001b[0m\u001b[0;34m\u001b[0m\u001b[0;34m\u001b[0m\u001b[0m\n\u001b[0;32m----> 3\u001b[0;31m   \u001b[0mbin\u001b[0m\u001b[0;34m.\u001b[0m\u001b[0mappend\u001b[0m\u001b[0;34m(\u001b[0m\u001b[0mdecToBin\u001b[0m\u001b[0;34m(\u001b[0m\u001b[0mcoefficient\u001b[0m\u001b[0;34m[\u001b[0m\u001b[0mn\u001b[0m\u001b[0;34m]\u001b[0m\u001b[0;34m)\u001b[0m\u001b[0;34m)\u001b[0m\u001b[0;34m\u001b[0m\u001b[0;34m\u001b[0m\u001b[0m\n\u001b[0m\u001b[1;32m      4\u001b[0m \u001b[0mnew_binary\u001b[0m \u001b[0;34m=\u001b[0m \u001b[0;34m\"\"\u001b[0m\u001b[0;34m.\u001b[0m\u001b[0mjoin\u001b[0m\u001b[0;34m(\u001b[0m\u001b[0mbin\u001b[0m\u001b[0;34m)\u001b[0m\u001b[0;34m\u001b[0m\u001b[0;34m\u001b[0m\u001b[0m\n\u001b[1;32m      5\u001b[0m \u001b[0mprint\u001b[0m\u001b[0;34m(\u001b[0m\u001b[0mnew_binary\u001b[0m\u001b[0;34m)\u001b[0m\u001b[0;34m\u001b[0m\u001b[0;34m\u001b[0m\u001b[0m\n",
            "\u001b[0;32m<ipython-input-15-b91371cb9b84>\u001b[0m in \u001b[0;36mdecToBin\u001b[0;34m(n)\u001b[0m\n\u001b[1;32m      2\u001b[0m     \u001b[0;32mif\u001b[0m \u001b[0mn\u001b[0m\u001b[0;34m==\u001b[0m\u001b[0;36m0\u001b[0m\u001b[0;34m:\u001b[0m \u001b[0;32mreturn\u001b[0m \u001b[0;34m''\u001b[0m\u001b[0;34m\u001b[0m\u001b[0;34m\u001b[0m\u001b[0m\n\u001b[1;32m      3\u001b[0m     \u001b[0;32melse\u001b[0m\u001b[0;34m:\u001b[0m\u001b[0;34m\u001b[0m\u001b[0;34m\u001b[0m\u001b[0m\n\u001b[0;32m----> 4\u001b[0;31m         \u001b[0;32mreturn\u001b[0m \u001b[0mdecToBin\u001b[0m\u001b[0;34m(\u001b[0m\u001b[0mn\u001b[0m\u001b[0;34m//\u001b[0m\u001b[0;36m2\u001b[0m\u001b[0;34m)\u001b[0m \u001b[0;34m+\u001b[0m \u001b[0mstr\u001b[0m\u001b[0;34m(\u001b[0m\u001b[0mn\u001b[0m\u001b[0;34m%\u001b[0m\u001b[0;36m2\u001b[0m\u001b[0;34m)\u001b[0m\u001b[0;34m\u001b[0m\u001b[0;34m\u001b[0m\u001b[0m\n\u001b[0m",
            "\u001b[0;31mTypeError\u001b[0m: unsupported operand type(s) for //: 'str' and 'int'"
          ]
        }
      ]
    },
    {
      "cell_type": "markdown",
      "metadata": {
        "id": "KwNEqaNBy3bY",
        "colab_type": "text"
      },
      "source": [
        "# **Inverse 1D Haar WT**"
      ]
    },
    {
      "cell_type": "code",
      "metadata": {
        "id": "8Pk1OcpxzGXm",
        "colab_type": "code",
        "colab": {}
      },
      "source": [
        "def inverseHWT(S, D, I=[]):\n",
        "  signal =[]\n",
        "  size = len(S) \n",
        "  for n in range(0, size):\n",
        "    signal.append(int((S[n]+D[n])))\n",
        "    signal.append(int((S[n]-D[n])))\n",
        "  index =np.zeros((size*2), dtype=int)\n",
        "  for i in range(0, len(I)):\n",
        "    index[I[i]+1] = 1\n",
        "  signal +=index\n",
        "  # decrease padding \n",
        "  if((S[-1]+D[-1])==S[-1] and D[-1]==0):\n",
        "    signal = signal[:-1].astype(int)\n",
        "    return signal\n",
        "  else:  \n",
        "    return signal.astype(int)"
      ],
      "execution_count": null,
      "outputs": []
    },
    {
      "cell_type": "code",
      "metadata": {
        "id": "oM4CL-052cPI",
        "colab_type": "code",
        "colab": {}
      },
      "source": [
        "print(inverseHWT(cS, cD))\n",
        "print(len(inverseHWT(cS, cD)))\n",
        "inverseWT = inverseHWT(cS, cD)"
      ],
      "execution_count": null,
      "outputs": []
    },
    {
      "cell_type": "code",
      "metadata": {
        "id": "I5sTc_SuToqh",
        "colab_type": "code",
        "colab": {}
      },
      "source": [
        "# check whether they are equivalent or not\n",
        "x = [107, 206, 739, 277, 866, 520, 959, 87, 52, 764, 226, 350, 359, 959, 547, 866, 920, 944, 416, 446, 884, 560, 707, 298, 65, 610, 374, 870, 839, 858, 248, 653, 938, 159, 556, 205, 523, 129, 360, 686, 662, 792, 669, 108, 879, 146, 888, 341, 666, 552, 130, 165, 340, 569, 58, 169, 593]\n",
        "x = np.asarray(x) # next function needs same DS\n",
        "print(type(x))\n",
        "print(type(inverseWT))\n",
        "print(np.array_equal(inverseWT, x))\n",
        "print(inverseWT)\n",
        "print(x)"
      ],
      "execution_count": null,
      "outputs": []
    }
  ]
}