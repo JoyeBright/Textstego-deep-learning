{
  "nbformat": 4,
  "nbformat_minor": 0,
  "metadata": {
    "colab": {
      "name": "SecretText_Module.ipynb",
      "provenance": [],
      "collapsed_sections": [
        "2oW3mZAtj5p2",
        "VVoFSwFgkBJB",
        "lWrgZTMdklMV",
        "qxVHisXPogE_",
        "BAAoAr8LucIk",
        "xaSJr-QdpfWC",
        "u-0jN6kVrauQ",
        "ULRQ4w5FaxDm",
        "PkuOQsLby3Gn"
      ],
      "authorship_tag": "ABX9TyOmZ01vQT1wSVFxRwZrpBen",
      "include_colab_link": true
    },
    "kernelspec": {
      "name": "python3",
      "display_name": "Python 3"
    }
  },
  "cells": [
    {
      "cell_type": "markdown",
      "metadata": {
        "id": "view-in-github",
        "colab_type": "text"
      },
      "source": [
        "<a href=\"https://colab.research.google.com/github/JoyeBright/TxtStego-deep-learning/blob/lastShot/SecretText_Module.ipynb\" target=\"_parent\"><img src=\"https://colab.research.google.com/assets/colab-badge.svg\" alt=\"Open In Colab\"/></a>"
      ]
    },
    {
      "cell_type": "markdown",
      "metadata": {
        "id": "2oW3mZAtj5p2",
        "colab_type": "text"
      },
      "source": [
        "# **Secret Data**"
      ]
    },
    {
      "cell_type": "code",
      "metadata": {
        "id": "a_nT9oYhY5_2",
        "colab_type": "code",
        "colab": {
          "base_uri": "https://localhost:8080/",
          "height": 0
        },
        "outputId": "d828ad66-0a86-4596-d954-e834b8954fc7"
      },
      "source": [
        "text=\"this is a secret bit stream. My name is Javad PourMostafa and I am going to hide this message!\"\n",
        "print(\"number of chars in secret bit:\", len(text))"
      ],
      "execution_count": 1,
      "outputs": [
        {
          "output_type": "stream",
          "text": [
            "number of chars in secret bit: 94\n"
          ],
          "name": "stdout"
        }
      ]
    },
    {
      "cell_type": "markdown",
      "metadata": {
        "id": "VVoFSwFgkBJB",
        "colab_type": "text"
      },
      "source": [
        "# **ASCII Text to Binary**"
      ]
    },
    {
      "cell_type": "code",
      "metadata": {
        "id": "LlqhPSWcaH2Q",
        "colab_type": "code",
        "colab": {}
      },
      "source": [
        "import binascii\n",
        "\n",
        "def text_to_bits(text, encoding='utf-8', errors='surrogatepass'):\n",
        "    bits = bin(int(binascii.hexlify(text.encode(encoding, errors)), 16))[2:]\n",
        "    return bits.zfill(8 * ((len(bits) + 7) // 8))"
      ],
      "execution_count": 2,
      "outputs": []
    },
    {
      "cell_type": "code",
      "metadata": {
        "id": "QpDxD1C3cXJz",
        "colab_type": "code",
        "colab": {}
      },
      "source": [
        "binary = (text_to_bits(text))"
      ],
      "execution_count": 3,
      "outputs": []
    },
    {
      "cell_type": "code",
      "metadata": {
        "id": "9DDYRCBWhC8C",
        "colab_type": "code",
        "colab": {
          "base_uri": "https://localhost:8080/",
          "height": 0
        },
        "outputId": "06e1130b-82e5-41bd-c723-3b3199ff2919"
      },
      "source": [
        "print(\"The binary bitsream:\", binary)\n",
        "print(\"Bistream length:\", len(binary))\n",
        "print(\"Bistream characters:\",int(len(binary)/8))"
      ],
      "execution_count": 4,
      "outputs": [
        {
          "output_type": "stream",
          "text": [
            "The binary bitsream: 01110100011010000110100101110011001000000110100101110011001000000110000100100000011100110110010101100011011100100110010101110100001000000110001001101001011101000010000001110011011101000111001001100101011000010110110100101110001000000100110101111001001000000110111001100001011011010110010100100000011010010111001100100000010010100110000101110110011000010110010000100000010100000110111101110101011100100100110101101111011100110111010001100001011001100110000100100000011000010110111001100100001000000100100100100000011000010110110100100000011001110110111101101001011011100110011100100000011101000110111100100000011010000110100101100100011001010010000001110100011010000110100101110011001000000110110101100101011100110111001101100001011001110110010100100001\n",
            "Bistream length: 752\n",
            "Bistream characters: 94\n"
          ],
          "name": "stdout"
        }
      ]
    },
    {
      "cell_type": "markdown",
      "metadata": {
        "id": "lWrgZTMdklMV",
        "colab_type": "text"
      },
      "source": [
        "# **Binary to Decimal**"
      ]
    },
    {
      "cell_type": "code",
      "metadata": {
        "id": "WGtNtnltdGtG",
        "colab_type": "code",
        "colab": {}
      },
      "source": [
        "def binToDec(n=binary):\n",
        "   decimal = 0\n",
        "   for d in binary:\n",
        "     decimal = decimal*2 + int(d)\n",
        "   return decimal"
      ],
      "execution_count": 5,
      "outputs": []
    },
    {
      "cell_type": "code",
      "metadata": {
        "id": "giOmJ1kiktGC",
        "colab_type": "code",
        "colab": {
          "base_uri": "https://localhost:8080/",
          "height": 0
        },
        "outputId": "b75d906e-bddc-4a73-85dc-81502ea0e5ce"
      },
      "source": [
        "print(\"Decimal value of bistream:\", binToDec())"
      ],
      "execution_count": 6,
      "outputs": [
        {
          "output_type": "stream",
          "text": [
            "Decimal value of bistream: 10772067739827798668520995910879052176492261350835919590547186619206944541614464884156097078298606576108374887088393858024886531938915985560205552361299360568696625792366901080879914658886341466675521130316523409569605801698593\n"
          ],
          "name": "stdout"
        }
      ]
    },
    {
      "cell_type": "markdown",
      "metadata": {
        "id": "qxVHisXPogE_",
        "colab_type": "text"
      },
      "source": [
        "# **Decimal to Binary (Test)**"
      ]
    },
    {
      "cell_type": "code",
      "metadata": {
        "id": "GGaAV8kajSY9",
        "colab_type": "code",
        "colab": {}
      },
      "source": [
        "def decToBin(n=binToDec()):\n",
        "    if n==0: return ''\n",
        "    else:\n",
        "        return decToBin(n//2) + str(n%2)"
      ],
      "execution_count": 7,
      "outputs": []
    },
    {
      "cell_type": "code",
      "metadata": {
        "id": "Ba94yNZxjT-Z",
        "colab_type": "code",
        "colab": {
          "base_uri": "https://localhost:8080/",
          "height": 0
        },
        "outputId": "1fdb94dc-e4f0-4986-d8c2-81b8a81995b5"
      },
      "source": [
        "print(\"Binary bitstream:\", decToBin())\n",
        "print(\"Bistream length:\", len(decToBin()))"
      ],
      "execution_count": 8,
      "outputs": [
        {
          "output_type": "stream",
          "text": [
            "Binary bitstream: 1110100011010000110100101110011001000000110100101110011001000000110000100100000011100110110010101100011011100100110010101110100001000000110001001101001011101000010000001110011011101000111001001100101011000010110110100101110001000000100110101111001001000000110111001100001011011010110010100100000011010010111001100100000010010100110000101110110011000010110010000100000010100000110111101110101011100100100110101101111011100110111010001100001011001100110000100100000011000010110111001100100001000000100100100100000011000010110110100100000011001110110111101101001011011100110011100100000011101000110111100100000011010000110100101100100011001010010000001110100011010000110100101110011001000000110110101100101011100110111001101100001011001110110010100100001\n",
            "Bistream length: 751\n"
          ],
          "name": "stdout"
        }
      ]
    },
    {
      "cell_type": "markdown",
      "metadata": {
        "id": "BAAoAr8LucIk",
        "colab_type": "text"
      },
      "source": [
        "# **Binary to ASCII (Test)**"
      ]
    },
    {
      "cell_type": "code",
      "metadata": {
        "id": "cBprveEhujgB",
        "colab_type": "code",
        "colab": {}
      },
      "source": [
        "def text_from_bits(bits, encoding='utf-8', errors='surrogatepass'):\n",
        "    n = int(bits, 2)\n",
        "    return int2bytes(n).decode(encoding, errors)\n",
        "def int2bytes(i):\n",
        "    hex_string = '%x' % i\n",
        "    n = len(hex_string)\n",
        "    return binascii.unhexlify(hex_string.zfill(n + (n & 1)))"
      ],
      "execution_count": 9,
      "outputs": []
    },
    {
      "cell_type": "code",
      "metadata": {
        "id": "P9oZOCS5u4jw",
        "colab_type": "code",
        "colab": {
          "base_uri": "https://localhost:8080/",
          "height": 0
        },
        "outputId": "e8f98f90-cbb0-44d4-911a-4d74adf5a249"
      },
      "source": [
        "print(text_from_bits(decToBin()))"
      ],
      "execution_count": 10,
      "outputs": [
        {
          "output_type": "stream",
          "text": [
            "this is a secret bit stream. My name is Javad PourMostafa and I am going to hide this message!\n"
          ],
          "name": "stdout"
        }
      ]
    },
    {
      "cell_type": "markdown",
      "metadata": {
        "id": "lbcguiQfdNLg",
        "colab_type": "text"
      },
      "source": [
        "# **Data Preparation**\n",
        "\n",
        "*Take apart 4 digits and for them as a number*"
      ]
    },
    {
      "cell_type": "code",
      "metadata": {
        "id": "z7UlyRkXdeUy",
        "colab_type": "code",
        "colab": {
          "base_uri": "https://localhost:8080/",
          "height": 71
        },
        "outputId": "a900bcf4-c983-484c-8c47-3ec28e4b036c"
      },
      "source": [
        "digits = [int(d) for d in str(binToDec())]\n",
        "#print(digits)\n",
        "#print(len(digits))\n",
        "num = []\n",
        "for n in range(0, len(digits), 4):\n",
        "  num.append(int(str(digits[n])+''+str(digits[n+1])+''+str(digits[n+2])))\n",
        "signal = num\n",
        "print(signal)\n",
        "print(len(signal))"
      ],
      "execution_count": 11,
      "outputs": [
        {
          "output_type": "stream",
          "text": [
            "[107, 206, 739, 277, 866, 520, 959, 87, 52, 764, 226, 350, 359, 959, 547, 866, 920, 944, 416, 446, 884, 560, 707, 298, 65, 610, 374, 870, 839, 858, 248, 653, 938, 159, 556, 205, 523, 129, 360, 686, 662, 792, 669, 108, 879, 146, 888, 341, 666, 552, 130, 165, 340, 569, 58, 169, 593]\n",
            "57\n"
          ],
          "name": "stdout"
        }
      ]
    },
    {
      "cell_type": "markdown",
      "metadata": {
        "id": "xaSJr-QdpfWC",
        "colab_type": "text"
      },
      "source": [
        "# **DWT**"
      ]
    },
    {
      "cell_type": "markdown",
      "metadata": {
        "id": "u-0jN6kVrauQ",
        "colab_type": "text"
      },
      "source": [
        "## **1D Haar Wavelet Transform**"
      ]
    },
    {
      "cell_type": "code",
      "metadata": {
        "id": "4AUowRAOrf90",
        "colab_type": "code",
        "colab": {
          "base_uri": "https://localhost:8080/",
          "height": 0
        },
        "outputId": "6ebf28ad-0d2a-4530-a827-27db1e144350"
      },
      "source": [
        "import pywt\n",
        "print(pywt.Wavelet('haar'))\n",
        "cA, cD = pywt.dwt(signal, 'haar', mode='zero')"
      ],
      "execution_count": 12,
      "outputs": [
        {
          "output_type": "stream",
          "text": [
            "Wavelet haar\n",
            "  Family name:    Haar\n",
            "  Short name:     haar\n",
            "  Filters length: 2\n",
            "  Orthogonal:     True\n",
            "  Biorthogonal:   True\n",
            "  Symmetry:       asymmetric\n",
            "  DWT:            True\n",
            "  CWT:            False\n"
          ],
          "name": "stdout"
        }
      ]
    },
    {
      "cell_type": "code",
      "metadata": {
        "id": "t1X56j30r_zr",
        "colab_type": "code",
        "colab": {
          "base_uri": "https://localhost:8080/",
          "height": 0
        },
        "outputId": "5dbe6545-0c59-4710-ca73-0186719ff326"
      },
      "source": [
        "print(cA)\n",
        "print(cD)"
      ],
      "execution_count": 13,
      "outputs": [
        {
          "output_type": "stream",
          "text": [
            "[ 221.32442251  718.42048969  980.04999872  739.63369312  576.99913345\n",
            "  407.29350596  931.9667376   999.14188182 1318.04704013  609.52604538\n",
            " 1021.06219203  710.64231509  477.2970773   879.6408358  1199.96020767\n",
            "  637.10320985  775.69613896  538.10826048  461.03362133  739.63369312\n",
            " 1028.13325985  549.42196898  724.78445072  869.03423408  861.25605949\n",
            "  208.59650045  642.7600641   160.51323933  419.31432124]\n",
            "[ -70.00357134  326.68333291  244.65894629  616.59711319 -503.4600282\n",
            "  -87.68124087 -424.26406871 -225.5670632   -16.97056275  -21.21320344\n",
            "  229.1025971   289.20667351 -385.37319575 -350.72496347  -13.43502884\n",
            " -286.37824638  550.83618254  248.1944802   278.60007179 -230.51681067\n",
            "  -91.92388155  396.68690425  518.30927061  386.78740931   80.61017306\n",
            "  -24.74873734 -161.92745289  -78.48885271  419.31432124]\n"
          ],
          "name": "stdout"
        }
      ]
    },
    {
      "cell_type": "markdown",
      "metadata": {
        "id": "ULRQ4w5FaxDm",
        "colab_type": "text"
      },
      "source": [
        "## **Inverse Wavelet**"
      ]
    },
    {
      "cell_type": "code",
      "metadata": {
        "id": "4Wa7NP_NanpK",
        "colab_type": "code",
        "colab": {
          "base_uri": "https://localhost:8080/",
          "height": 0
        },
        "outputId": "2070fc3e-96bb-4e85-84a1-b31d18baf91c"
      },
      "source": [
        "coe = pywt.idwt(cA, cD, 'haar')\n",
        "coe = coe.astype(int)\n",
        "print(pywt.idwt(cA, cD, 'haar'))\n",
        "print(len(pywt.idwt(cA, cD, 'haar')))"
      ],
      "execution_count": 14,
      "outputs": [
        {
          "output_type": "stream",
          "text": [
            "[107. 206. 739. 277. 866. 520. 959.  87.  52. 764. 226. 350. 359. 959.\n",
            " 547. 866. 920. 944. 416. 446. 884. 560. 707. 298.  65. 610. 374. 870.\n",
            " 839. 858. 248. 653. 938. 159. 556. 205. 523. 129. 360. 686. 662. 792.\n",
            " 669. 108. 879. 146. 888. 341. 666. 552. 130. 165. 340. 569.  58. 169.\n",
            " 593.   0.]\n",
            "58\n"
          ],
          "name": "stdout"
        }
      ]
    },
    {
      "cell_type": "markdown",
      "metadata": {
        "id": "PkuOQsLby3Gn",
        "colab_type": "text"
      },
      "source": [
        "# **Decimal To Binary (Again)**"
      ]
    },
    {
      "cell_type": "code",
      "metadata": {
        "id": "65HFBbMUy6We",
        "colab_type": "code",
        "colab": {
          "base_uri": "https://localhost:8080/",
          "height": 0
        },
        "outputId": "be836a62-5ab8-4ca3-a6bb-c9b93c7d5cdf"
      },
      "source": [
        "bin = []\n",
        "for n in range(0, len(coe)):\n",
        "  bin.append(decToBin(coe[n]))\n",
        "new_binary = \"\".join(bin)\n",
        "print(new_binary)\n",
        "print(len(new_binary))"
      ],
      "execution_count": 15,
      "outputs": [
        {
          "output_type": "stream",
          "text": [
            "1101011110011101011100011100010101110110001010000010001110111111101011111001110111111001110001010101111010110011111101111111000100011110110001011100110001110110000110100000110111110110111010010001100001011000011100101010100000010011000101011101101101100110110100011111010110101111100010100011011110101010100111101000101100110011011000001011100000011011010001010101110101001011011000110001010011101110110011011011111001001011011110001010101011010011010100010100010000010101001011010101001000111001111010101010011001010001\n",
            "520\n"
          ],
          "name": "stdout"
        }
      ]
    },
    {
      "cell_type": "markdown",
      "metadata": {
        "id": "k4aDGvsTxaCh",
        "colab_type": "text"
      },
      "source": [
        "# **Cutomized 1D Haar Wavelet Transform**"
      ]
    },
    {
      "cell_type": "code",
      "metadata": {
        "id": "zq-Tp2dgxZEa",
        "colab_type": "code",
        "colab": {}
      },
      "source": [
        "def haarWavelet(signal):\n",
        "  size = len(signal)\n",
        "  s = []\n",
        "  d = []\n",
        "  for n in range(0, size, 2):\n",
        "    if(n==size-1): signal.append(signal[n]) #  padding to make a pair (rewrite the last number)\n",
        "    s.append(int((signal[n]+signal[n+1])/2))\n",
        "    d.append(int((signal[n]-signal[n+1])/2))\n",
        "  return s, d"
      ],
      "execution_count": 16,
      "outputs": []
    },
    {
      "cell_type": "code",
      "metadata": {
        "id": "GIoEo0znxzZl",
        "colab_type": "code",
        "colab": {
          "base_uri": "https://localhost:8080/",
          "height": 54
        },
        "outputId": "cf19f0aa-498d-4202-9744-9147a03138d8"
      },
      "source": [
        "data=[9, 7, 3, 5, 10, 2, 3]\n",
        "print(haarWavelet(signal))\n",
        "cS, cD = haarWavelet(signal)"
      ],
      "execution_count": 17,
      "outputs": [
        {
          "output_type": "stream",
          "text": [
            "([156, 508, 693, 523, 408, 288, 659, 706, 932, 431, 722, 502, 337, 622, 848, 450, 548, 380, 326, 523, 727, 388, 512, 614, 609, 147, 454, 113, 593], [-49, 231, 173, 436, -356, -62, -300, -159, -12, -15, 162, 204, -272, -248, -9, -202, 389, 175, 197, -163, -65, 280, 366, 273, 57, -17, -114, -55, 0])\n"
          ],
          "name": "stdout"
        }
      ]
    },
    {
      "cell_type": "markdown",
      "metadata": {
        "id": "KwNEqaNBy3bY",
        "colab_type": "text"
      },
      "source": [
        "## **Inverse 1D Haar WT**"
      ]
    },
    {
      "cell_type": "code",
      "metadata": {
        "id": "8Pk1OcpxzGXm",
        "colab_type": "code",
        "colab": {}
      },
      "source": [
        "def inverseHWT(S, D):\n",
        "  signal =[]\n",
        "  size = len(S)\n",
        "  for n in range(0, size):\n",
        "    signal.append(int((S[n]+D[n])))\n",
        "    signal.append(int((S[n]-D[n])))\n",
        "  return signal"
      ],
      "execution_count": 18,
      "outputs": []
    },
    {
      "cell_type": "code",
      "metadata": {
        "id": "oM4CL-052cPI",
        "colab_type": "code",
        "colab": {
          "base_uri": "https://localhost:8080/",
          "height": 71
        },
        "outputId": "5c1a6645-fcdd-4eb0-ec72-c7577b3a06de"
      },
      "source": [
        "print(inverseHWT(cS, cD))\n",
        "print(len(inverseHWT(cS, cD)))"
      ],
      "execution_count": 19,
      "outputs": [
        {
          "output_type": "stream",
          "text": [
            "[107, 205, 739, 277, 866, 520, 959, 87, 52, 764, 226, 350, 359, 959, 547, 865, 920, 944, 416, 446, 884, 560, 706, 298, 65, 609, 374, 870, 839, 857, 248, 652, 937, 159, 555, 205, 523, 129, 360, 686, 662, 792, 668, 108, 878, 146, 887, 341, 666, 552, 130, 164, 340, 568, 58, 168, 593, 593]\n",
            "58\n"
          ],
          "name": "stdout"
        }
      ]
    },
    {
      "cell_type": "code",
      "metadata": {
        "id": "E0nvegjlB2yU",
        "colab_type": "code",
        "colab": {}
      },
      "source": [
        "print(len)"
      ],
      "execution_count": null,
      "outputs": []
    }
  ]
}