{
  "nbformat": 4,
  "nbformat_minor": 0,
  "metadata": {
    "colab": {
      "name": "Reduction.ipynb",
      "provenance": [],
      "collapsed_sections": [],
      "mount_file_id": "1jYPxYsjFF3rpqo-JLqplbRmfRCb5m86t",
      "authorship_tag": "ABX9TyML/XOldBvFsNPl7vh0tytl"
    },
    "kernelspec": {
      "name": "python3",
      "display_name": "Python 3"
    },
    "accelerator": "GPU"
  },
  "cells": [
    {
      "cell_type": "markdown",
      "metadata": {
        "id": "Zl1wWvDj14ts",
        "colab_type": "text"
      },
      "source": [
        "**NB: Before plotting the vectors, we need to reduce their dimensions**"
      ]
    },
    {
      "cell_type": "markdown",
      "metadata": {
        "id": "Hc-7bbQmDtCy",
        "colab_type": "text"
      },
      "source": [
        "## **Dimensionality Reduction**"
      ]
    },
    {
      "cell_type": "code",
      "metadata": {
        "id": "flDrtwRw1uBd",
        "colab_type": "code",
        "colab": {}
      },
      "source": [
        "import numpy as np\n",
        "import matplotlib.pyplot as plt\n",
        "import pandas as pd\n",
        "file_name ='cover_text_embedding.csv'"
      ],
      "execution_count": 0,
      "outputs": []
    },
    {
      "cell_type": "code",
      "metadata": {
        "id": "PZ9DW_uZ0QEV",
        "colab_type": "code",
        "colab": {}
      },
      "source": [
        "absolute_add = '/content/drive/My Drive/Colab Notebooks/TxtSteganography/'+file_name"
      ],
      "execution_count": 0,
      "outputs": []
    },
    {
      "cell_type": "code",
      "metadata": {
        "id": "PReV4GcXDUf7",
        "colab_type": "code",
        "outputId": "4c5cafd2-ee54-4cc5-8ca8-8ff7288f1e57",
        "colab": {
          "base_uri": "https://localhost:8080/",
          "height": 119
        }
      },
      "source": [
        "cover_text_embedding = pd.read_csv(absolute_add, delimiter='\\t', index_col=0)\n",
        "print(cover_text_embedding.head(3))\n",
        "vocabulary_tokens = cover_text_embedding.columns"
      ],
      "execution_count": 0,
      "outputs": [
        {
          "output_type": "stream",
          "text": [
            "    demesne       far   hearted  ...      loud      less         .\n",
            "0  0.046823 -0.185514 -0.003144  ... -0.123823 -0.080475 -0.111124\n",
            "1  0.269755  0.015872 -0.020594  ... -0.103606  0.052409 -0.001386\n",
            "2 -0.361431 -0.039883 -0.147427  ... -0.090466 -0.282088 -0.177799\n",
            "\n",
            "[3 rows x 419 columns]\n"
          ],
          "name": "stdout"
        }
      ]
    },
    {
      "cell_type": "code",
      "metadata": {
        "id": "QJRJHi2yFUdO",
        "colab_type": "code",
        "colab": {}
      },
      "source": [
        "cover_text_embedding = cover_text_embedding.transpose() # It is needed to transpose \n",
        "# print(cover_text_embedding.values[0])"
      ],
      "execution_count": 0,
      "outputs": []
    },
    {
      "cell_type": "markdown",
      "metadata": {
        "id": "BHMluP2cWSfw",
        "colab_type": "text"
      },
      "source": [
        "## **T-SNE**"
      ]
    },
    {
      "cell_type": "code",
      "metadata": {
        "id": "ujqDj9vZGszG",
        "colab_type": "code",
        "outputId": "3507179b-c6af-475d-8d7c-01f934fd505a",
        "colab": {
          "base_uri": "https://localhost:8080/",
          "height": 105
        }
      },
      "source": [
        "import seaborn as sns\n",
        "%matplotlib inline\n",
        "print(cover_text_embedding.shape)\n",
        "from sklearn.manifold import TSNE\n",
        "tsne = TSNE(n_components=2, random_state=0)\n",
        "tsne_embedded= tsne.fit_transform(cover_text_embedding)\n",
        "print(\"The shape of new matrix is:\", tsne_embedded.shape)"
      ],
      "execution_count": 0,
      "outputs": [
        {
          "output_type": "stream",
          "text": [
            "/usr/local/lib/python3.6/dist-packages/statsmodels/tools/_testing.py:19: FutureWarning: pandas.util.testing is deprecated. Use the functions in the public API at pandas.testing instead.\n",
            "  import pandas.util.testing as tm\n"
          ],
          "name": "stderr"
        },
        {
          "output_type": "stream",
          "text": [
            "(419, 300)\n",
            "The shape of new matrix is: (419, 2)\n"
          ],
          "name": "stdout"
        }
      ]
    },
    {
      "cell_type": "code",
      "metadata": {
        "id": "leqrDTDKcMlh",
        "colab_type": "code",
        "outputId": "3c386e96-aba4-49ed-ae9c-3159e0f7db25",
        "colab": {
          "base_uri": "https://localhost:8080/",
          "height": 1000
        }
      },
      "source": [
        "print(tsne_embedded)"
      ],
      "execution_count": 0,
      "outputs": [
        {
          "output_type": "stream",
          "text": [
            "[[ 1.02667846e-01 -5.80040026e+00]\n",
            " [-8.92996025e+00  4.05311918e+00]\n",
            " [ 5.23161077e+00 -9.93479490e-01]\n",
            " [-8.85825753e-01  5.43109035e+00]\n",
            " [-1.27636623e+01 -2.25086761e+00]\n",
            " [ 4.84114885e+00 -2.57931376e+00]\n",
            " [-2.00313902e+00  4.79380941e+00]\n",
            " [-2.78476310e+00 -2.45752764e+00]\n",
            " [ 5.74693584e+00  1.04958210e+01]\n",
            " [ 2.48788881e+00 -6.15479529e-01]\n",
            " [-5.22474718e+00 -2.31615260e-01]\n",
            " [-1.53693068e+00  3.90427232e+00]\n",
            " [ 2.09675789e+00  1.43808067e+00]\n",
            " [-2.77707958e+00 -4.29515934e+00]\n",
            " [-6.14646006e+00  3.06302953e+00]\n",
            " [-1.32407391e+00  2.14898086e+00]\n",
            " [-5.51245356e+00  2.20795274e+00]\n",
            " [ 6.45364141e+00 -1.13167000e+00]\n",
            " [ 1.64273083e+00  2.15534401e+00]\n",
            " [-6.59758186e+00 -4.21204472e+00]\n",
            " [-2.42600203e+00  5.53099823e+00]\n",
            " [-7.39673281e+00  7.21026719e-01]\n",
            " [-3.53665781e+00  1.46168634e-01]\n",
            " [-3.22246738e-03  5.11528587e+00]\n",
            " [-1.03849335e+01 -2.10492373e+00]\n",
            " [-9.20439434e+00 -1.96662307e+00]\n",
            " [-1.10766447e+00  2.78039247e-01]\n",
            " [-8.22542477e+00  2.15715766e+00]\n",
            " [ 2.47276282e+00 -6.17075324e-01]\n",
            " [-3.49929428e+00  1.04773312e+01]\n",
            " [-9.75128829e-01  5.30961657e+00]\n",
            " [-5.63274765e+00 -5.59566450e+00]\n",
            " [ 4.67429161e+00  1.68233323e+00]\n",
            " [-6.20439482e+00 -4.15608597e+00]\n",
            " [-6.93704891e+00  5.38115025e+00]\n",
            " [ 7.44322157e+00 -2.09078693e+00]\n",
            " [-3.13200545e+00 -3.23778033e+00]\n",
            " [ 4.65241003e+00 -1.14238346e+00]\n",
            " [-3.50457168e+00 -7.35937738e+00]\n",
            " [-2.81172347e+00  1.91356146e+00]\n",
            " [-5.79029512e+00 -9.64468861e+00]\n",
            " [ 3.27618003e+00  6.73925447e+00]\n",
            " [-4.50922680e+00 -7.08147585e-01]\n",
            " [ 4.79625893e+00  4.35906696e+00]\n",
            " [ 5.42810154e+00  1.41792154e+00]\n",
            " [ 2.24896932e+00  1.18487263e+00]\n",
            " [-3.81184125e+00  5.45913100e-01]\n",
            " [-5.46991301e+00  9.02828789e+00]\n",
            " [ 7.07179880e+00  1.49265516e+00]\n",
            " [-5.46770751e-01  2.29152942e+00]\n",
            " [-3.81265789e-01 -3.92912388e+00]\n",
            " [ 3.05242985e-01  4.66199112e+00]\n",
            " [-1.33888507e+00  5.62345743e-01]\n",
            " [-5.20965815e+00 -2.88811064e+00]\n",
            " [-4.55652285e+00 -1.20227075e+00]\n",
            " [-4.13384199e+00 -2.98329443e-01]\n",
            " [-7.41766405e+00 -5.62707090e+00]\n",
            " [-3.64238524e+00 -8.20450902e-01]\n",
            " [-9.44654560e+00 -4.14908314e+00]\n",
            " [-9.36312389e+00  4.56365347e+00]\n",
            " [-1.70317650e+00  8.15763772e-01]\n",
            " [ 1.69396365e+00  5.82704592e+00]\n",
            " [-9.31067944e+00  4.06647491e+00]\n",
            " [-3.98441005e+00  1.70259047e+00]\n",
            " [-1.02089596e+01  6.69949341e+00]\n",
            " [-1.75575745e+00  7.79479742e+00]\n",
            " [ 2.13355327e+00 -6.94726706e+00]\n",
            " [-4.16851854e+00  2.35918355e+00]\n",
            " [ 1.39083624e+00  4.55490828e+00]\n",
            " [-6.66459751e+00  1.62082744e+00]\n",
            " [-4.91704416e+00 -5.46419084e-01]\n",
            " [-7.74781609e+00 -4.06322384e+00]\n",
            " [ 3.71216798e+00  5.73975563e+00]\n",
            " [-7.01178789e+00 -5.31985378e+00]\n",
            " [-1.29615211e+00  2.71665072e+00]\n",
            " [ 8.44667244e+00  6.20650434e+00]\n",
            " [ 5.11124325e+00  6.88087702e+00]\n",
            " [ 5.51074982e+00 -8.44054341e-01]\n",
            " [-3.18255377e+00  5.94619226e+00]\n",
            " [ 1.43517029e+00  5.28274298e+00]\n",
            " [-1.68027866e+00 -4.19409132e+00]\n",
            " [-1.62773836e+00  3.24489021e+00]\n",
            " [ 6.80509210e-01  3.95225525e+00]\n",
            " [-2.24461412e+00 -3.59663486e+00]\n",
            " [-4.02503777e+00  1.04266825e+01]\n",
            " [-4.14461994e+00 -4.14000320e+00]\n",
            " [-9.04078960e-01  4.75357389e+00]\n",
            " [ 3.03643274e+00  3.63050747e+00]\n",
            " [-3.59344095e-01  2.35610080e+00]\n",
            " [ 7.12497520e+00  2.32363391e+00]\n",
            " [ 7.05207825e+00  2.42321634e+00]\n",
            " [-1.75194168e+00  7.74035931e+00]\n",
            " [ 8.10790253e+00  6.29320145e+00]\n",
            " [-6.64737844e+00 -4.21160984e+00]\n",
            " [-2.89432383e+00  2.01132536e+00]\n",
            " [-6.39303160e+00  6.10395861e+00]\n",
            " [-6.92319918e+00 -5.32332563e+00]\n",
            " [-1.17798271e+01  2.68346810e+00]\n",
            " [-6.24296188e-01  1.25904024e+00]\n",
            " [-2.30018520e+00  2.53646731e+00]\n",
            " [-5.61258411e+00  3.30199790e+00]\n",
            " [ 1.06269300e+00  8.69409370e+00]\n",
            " [ 4.19245434e+00 -2.61722875e+00]\n",
            " [-3.17745358e-01  7.51158333e+00]\n",
            " [-2.38622808e+00  2.66924620e+00]\n",
            " [-1.81382728e+00 -3.89873505e+00]\n",
            " [ 5.74617386e+00  1.04887304e+01]\n",
            " [-1.88770843e+00  1.70919621e+00]\n",
            " [-6.72336102e-01  8.43490696e+00]\n",
            " [ 8.69393766e-01 -4.91982794e+00]\n",
            " [-2.76548362e+00 -6.54632986e-01]\n",
            " [-2.34983921e+00  5.79979479e-01]\n",
            " [-3.73192191e+00  4.36579138e-01]\n",
            " [-4.49558640e+00  5.19100952e+00]\n",
            " [-4.39206743e+00  1.69151247e+00]\n",
            " [-2.64182138e+00 -7.02398658e-01]\n",
            " [-8.04317665e+00  7.52682066e+00]\n",
            " [ 1.36469495e+00  1.28055401e+01]\n",
            " [-4.02654028e+00  3.58096004e+00]\n",
            " [-7.40638304e+00  3.31495190e+00]\n",
            " [-4.06650114e+00 -4.97284353e-01]\n",
            " [-2.18680048e+00  1.00416050e+01]\n",
            " [-4.55168962e+00 -1.61443067e+00]\n",
            " [ 2.65739024e-01 -7.55848885e-01]\n",
            " [ 5.57817554e+00 -7.07083225e+00]\n",
            " [-5.84464407e+00  8.34713936e-01]\n",
            " [-6.33936119e+00 -4.19142628e+00]\n",
            " [-3.41119289e+00  4.17352486e+00]\n",
            " [-5.76810169e+00 -9.59900856e+00]\n",
            " [-1.17704058e+01  2.66415095e+00]\n",
            " [-7.03985882e+00 -1.47577763e-01]\n",
            " [-6.70257568e+00 -1.89718115e+00]\n",
            " [-5.53544044e+00 -7.58558130e+00]\n",
            " [-8.09982681e+00  2.07092357e+00]\n",
            " [ 6.16167641e+00  5.25547361e+00]\n",
            " [-5.86590111e-01 -1.38551140e+00]\n",
            " [-5.07680893e-01  8.11056674e-01]\n",
            " [ 1.10860951e-01 -8.36774254e+00]\n",
            " [-1.10919847e+01 -3.46990728e+00]\n",
            " [-1.26282525e+00 -2.28308892e+00]\n",
            " [-1.64156616e+00 -1.02346630e+01]\n",
            " [-3.69339371e+00  3.45251465e+00]\n",
            " [-4.74344397e+00  3.80268645e+00]\n",
            " [ 4.20893049e+00  5.89295292e+00]\n",
            " [ 5.72570896e+00  6.85117102e+00]\n",
            " [-9.32155669e-01  4.50120258e+00]\n",
            " [ 3.20793962e+00  8.57870579e+00]\n",
            " [ 8.06216812e+00  6.29834366e+00]\n",
            " [ 6.37359953e+00  9.70178843e-01]\n",
            " [-5.53625298e+00 -7.80832529e+00]\n",
            " [-3.49504542e+00  5.01590157e+00]\n",
            " [-3.07943654e+00  1.03566484e+01]\n",
            " [-2.77366447e+00  7.45860577e+00]\n",
            " [-6.55856419e+00 -6.39791918e+00]\n",
            " [ 7.79372871e-01 -2.58543634e+00]\n",
            " [-3.58293915e+00 -1.92620766e+00]\n",
            " [-2.09506989e+00  2.91011381e+00]\n",
            " [ 4.21852303e+00 -1.33820856e+00]\n",
            " [-2.11710525e+00  6.67488527e+00]\n",
            " [-6.89517736e+00  8.86860967e-01]\n",
            " [-2.64797068e+00  5.04211330e+00]\n",
            " [-9.53408813e+00  2.67400479e+00]\n",
            " [-2.58410406e+00  5.09325385e-01]\n",
            " [-5.34850836e+00 -6.63053036e-01]\n",
            " [-1.77940047e+00  7.36837196e+00]\n",
            " [ 4.67167616e+00 -2.25475883e+00]\n",
            " [-2.96859694e+00 -4.52457458e-01]\n",
            " [ 7.30534029e+00 -2.25968194e+00]\n",
            " [-4.10843700e-01  6.29891968e+00]\n",
            " [ 8.24951077e+00  7.70865917e-01]\n",
            " [-1.21215451e+00  5.45300579e+00]\n",
            " [-5.24195957e+00 -1.38499582e+00]\n",
            " [-2.86750126e+00  4.56677437e+00]\n",
            " [ 1.43467128e-01  3.24371982e+00]\n",
            " [ 5.39654922e+00  3.51286364e+00]\n",
            " [-3.67667861e-02  1.47533715e+00]\n",
            " [-5.92281485e+00 -2.02950716e+00]\n",
            " [-1.75860167e+00 -5.34379768e+00]\n",
            " [-1.51133132e+00 -2.68840885e+00]\n",
            " [-7.42473936e+00 -1.38077438e+00]\n",
            " [-5.16774559e+00  8.55536747e+00]\n",
            " [-8.19263077e+00 -3.28487849e+00]\n",
            " [ 2.36376619e+00 -2.60962272e+00]\n",
            " [-2.98636436e+00  6.40823245e-01]\n",
            " [-1.13509865e+01  1.05785155e+00]\n",
            " [-8.08547783e+00 -8.57015476e-02]\n",
            " [-7.56321955e+00  4.61049604e+00]\n",
            " [-5.61922216e+00 -1.71411490e+00]\n",
            " [-6.10546303e+00 -4.42864275e+00]\n",
            " [ 4.50679541e+00 -5.97630453e+00]\n",
            " [-1.18987627e+01 -5.68628979e+00]\n",
            " [ 1.60665226e+00  1.47008801e+00]\n",
            " [ 9.19033349e-01  6.74515104e+00]\n",
            " [ 7.01732826e+00  1.46262836e+00]\n",
            " [-8.86898327e+00  1.00766497e+01]\n",
            " [-8.19757366e+00  5.96012306e+00]\n",
            " [ 3.31970167e+00 -8.26536465e+00]\n",
            " [ 8.89964771e+00  2.17221570e+00]\n",
            " [-1.77430427e+00  5.87471104e+00]\n",
            " [ 2.77905536e+00  5.02864552e+00]\n",
            " [-7.74140692e+00  1.64406788e+00]\n",
            " [ 2.48625755e+00 -6.19666517e-01]\n",
            " [-1.29987407e+00  1.77525377e+00]\n",
            " [ 6.24008369e+00  7.46218920e-01]\n",
            " [-8.87113476e+00  1.00717611e+01]\n",
            " [-2.91652769e-01 -3.96870589e+00]\n",
            " [-1.35161078e+00  6.10667086e+00]\n",
            " [ 1.60456407e+00 -5.42037392e+00]\n",
            " [-2.43066716e+00 -1.89463675e+00]\n",
            " [-4.87320328e+00  2.95478046e-01]\n",
            " [-2.30971068e-01  1.00929728e+01]\n",
            " [-3.93161106e+00  4.17536885e-01]\n",
            " [-1.18936958e+01 -5.68965101e+00]\n",
            " [ 1.01973736e+00  8.65947533e+00]\n",
            " [ 6.49864450e-02  3.53920817e-01]\n",
            " [-6.10982800e+00  9.10064888e+00]\n",
            " [ 3.13830328e+00  1.26026809e+00]\n",
            " [ 3.66725349e+00 -4.74042320e+00]\n",
            " [-3.16266561e+00  3.77535963e+00]\n",
            " [ 7.90073454e-01  1.78954101e+00]\n",
            " [-6.38656712e+00  4.07420826e+00]\n",
            " [-1.24159527e+00 -6.96896982e+00]\n",
            " [-8.28798771e+00 -1.01706278e+00]\n",
            " [-2.28965282e+00  3.96549749e+00]\n",
            " [-5.01151276e+00  8.52252781e-01]\n",
            " [-1.01189861e+01  6.68179703e+00]\n",
            " [ 3.85618091e+00  1.77845788e+00]\n",
            " [-4.86248159e+00 -4.61946774e+00]\n",
            " [ 8.43095481e-01 -8.30200481e+00]\n",
            " [-4.34476042e+00  8.77989471e-01]\n",
            " [ 1.33976960e+00 -8.16212177e+00]\n",
            " [-2.63023281e+00 -6.23375082e+00]\n",
            " [-2.46388221e+00 -1.85582685e+00]\n",
            " [-1.27437983e+01 -2.24733591e+00]\n",
            " [-6.19972944e-01  5.81875801e+00]\n",
            " [ 4.14694279e-01 -8.73361778e+00]\n",
            " [-2.41091847e+00  1.31399357e+00]\n",
            " [-1.29266226e+00  2.96624994e+00]\n",
            " [-4.42304564e+00 -5.84117079e+00]\n",
            " [ 2.14756107e+00 -2.89638758e+00]\n",
            " [-4.92462921e+00 -2.74331897e-01]\n",
            " [-3.89834571e+00 -1.13170516e+00]\n",
            " [-7.12105408e-02  6.78790188e+00]\n",
            " [-4.00057411e+00 -2.07175779e+00]\n",
            " [ 1.22892940e+00 -3.25970864e+00]\n",
            " [ 6.98945761e+00  2.46058297e+00]\n",
            " [-4.04704154e-01  1.88390434e+00]\n",
            " [-4.48551321e+00  7.95196629e+00]\n",
            " [-3.15915346e+00 -1.23594630e+00]\n",
            " [-4.56893587e+00 -6.44546747e-01]\n",
            " [-7.09617376e-01 -1.33781946e+00]\n",
            " [ 9.61627781e-01 -4.60960817e+00]\n",
            " [ 6.98160696e+00  7.35630929e-01]\n",
            " [-9.76394463e+00  2.30945349e+00]\n",
            " [ 1.20634842e+00  5.13726425e+00]\n",
            " [ 3.69772601e+00  4.24875593e+00]\n",
            " [-2.89394140e+00  6.72713566e+00]\n",
            " [ 2.00538325e+00 -2.33032799e+00]\n",
            " [ 2.26508999e+00  7.54984438e-01]\n",
            " [ 3.12689996e+00 -4.01011562e+00]\n",
            " [ 7.29170799e-01 -3.25065941e-01]\n",
            " [-6.53285360e+00  2.35180998e+00]\n",
            " [-1.38825428e+00  1.27640760e+00]\n",
            " [ 6.23285890e-01  3.85665178e+00]\n",
            " [ 1.47989035e+00 -1.74542224e+00]\n",
            " [-6.15260243e-01  4.55323839e+00]\n",
            " [-1.28246844e+00  6.70540190e+00]\n",
            " [ 8.42941570e+00 -4.93938303e+00]\n",
            " [-4.98730469e+00 -1.03474391e+00]\n",
            " [-5.15167236e+00  1.22885382e+00]\n",
            " [-1.27848566e+00 -6.88878727e+00]\n",
            " [-7.31373072e+00 -2.33363748e+00]\n",
            " [ 1.52938926e+00 -5.30875683e+00]\n",
            " [ 5.61400700e+00 -8.84417713e-01]\n",
            " [-2.93535256e+00 -8.62908363e+00]\n",
            " [-7.70243883e+00 -7.85863447e+00]\n",
            " [-5.76334620e+00  7.38834429e+00]\n",
            " [-5.67619371e+00  5.68995333e+00]\n",
            " [-9.42087555e+00 -2.01360345e+00]\n",
            " [-3.71334147e+00  2.78171086e+00]\n",
            " [ 4.87232238e-01  6.77227783e+00]\n",
            " [ 5.71486521e+00  1.04496317e+01]\n",
            " [-6.30157375e+00 -1.00048006e+00]\n",
            " [-5.84562063e+00  4.65652466e+00]\n",
            " [-2.58532810e+00  1.01893473e+01]\n",
            " [-3.53414416e+00  1.38981891e+00]\n",
            " [-7.19914198e+00 -3.05668569e+00]\n",
            " [-5.80042696e+00 -9.76033592e+00]\n",
            " [ 2.32169437e+00 -2.67162180e+00]\n",
            " [ 3.07914734e+00  2.23403049e+00]\n",
            " [ 2.54251480e+00 -2.72413254e+00]\n",
            " [-8.90058231e+00  8.89086425e-01]\n",
            " [-6.59121227e+00 -8.70413244e-01]\n",
            " [-5.03257322e+00  3.83345389e+00]\n",
            " [ 8.42725182e+00 -4.93547153e+00]\n",
            " [-4.94907522e+00  9.16766763e-01]\n",
            " [-5.79233789e+00  7.18423796e+00]\n",
            " [ 1.42836046e+00 -5.14749861e+00]\n",
            " [-3.11019921e+00 -2.37033057e+00]\n",
            " [-6.29398680e+00 -1.90786779e-01]\n",
            " [ 3.31258392e+00  7.05454969e+00]\n",
            " [ 3.42118192e+00  6.20095444e+00]\n",
            " [ 3.10279107e+00  4.39621061e-01]\n",
            " [-3.55446005e+00 -4.46990108e+00]\n",
            " [-5.10561085e+00  2.67602754e+00]\n",
            " [-1.12729156e+00 -3.49377537e+00]\n",
            " [ 3.70032334e+00 -4.78630590e+00]\n",
            " [ 1.15015471e+00  2.91230845e+00]\n",
            " [-4.23513508e+00  6.05177498e+00]\n",
            " [-9.78145301e-02  1.06083841e+01]\n",
            " [-5.81608057e+00  1.60119236e+00]\n",
            " [-1.31095524e+01  4.40273476e+00]\n",
            " [-1.31090689e+01  4.39829111e+00]\n",
            " [-8.46206093e+00 -5.43247890e+00]\n",
            " [ 2.97586060e+00  2.36687779e+00]\n",
            " [ 1.03879273e+00  3.29741883e+00]\n",
            " [ 5.74339914e+00  1.04832067e+01]\n",
            " [ 3.92845416e+00  3.62933326e+00]\n",
            " [-4.01410866e+00 -2.29166046e-01]\n",
            " [-2.37927890e+00  6.06495917e-01]\n",
            " [-4.40105200e+00  7.83138323e+00]\n",
            " [-4.07348490e+00 -3.76532626e+00]\n",
            " [ 4.84114170e+00  3.68457770e+00]\n",
            " [-2.58728385e+00  1.00333033e+01]\n",
            " [-7.77557802e+00 -7.42622232e+00]\n",
            " [-1.92140281e+00 -3.32202387e+00]\n",
            " [-1.78483963e+00  4.42218781e+00]\n",
            " [ 2.10487485e+00  2.88305259e+00]\n",
            " [-3.68210840e+00  4.51567173e+00]\n",
            " [-9.37435806e-01  5.42932415e+00]\n",
            " [-3.61474365e-01 -2.47214580e+00]\n",
            " [ 7.26819801e+00  3.33342195e+00]\n",
            " [-5.72355127e+00 -6.35356829e-02]\n",
            " [-1.17024546e+01 -4.51113194e-01]\n",
            " [ 1.92430997e+00  7.62017298e+00]\n",
            " [ 7.37860441e+00 -2.15708232e+00]\n",
            " [-7.69208145e+00 -7.89168501e+00]\n",
            " [-4.32512426e+00 -2.30350709e+00]\n",
            " [ 7.20272303e+00 -1.34746969e+00]\n",
            " [ 3.34594345e+00  5.68514884e-01]\n",
            " [-1.40515184e+00 -1.28506625e+00]\n",
            " [-2.74209738e+00  2.90313721e+00]\n",
            " [-5.55983543e-01  3.63620877e+00]\n",
            " [ 2.23247394e-01 -5.58847284e+00]\n",
            " [-8.53814125e+00 -2.30966187e+00]\n",
            " [-3.32023335e+00  2.37604356e+00]\n",
            " [-1.44049203e+00 -7.52712822e+00]\n",
            " [ 2.08558393e+00 -2.59778094e+00]\n",
            " [ 1.16082788e+00  6.11371696e-01]\n",
            " [-1.39011478e+00  2.81099153e+00]\n",
            " [-4.82848644e+00 -2.58129239e+00]\n",
            " [-9.01601791e+00 -5.12112789e-02]\n",
            " [-1.39465046e+01  9.22749877e-01]\n",
            " [-2.03512836e+00 -5.07404280e+00]\n",
            " [ 5.64171743e+00  3.57800245e+00]\n",
            " [-1.15868127e+00  5.69296312e+00]\n",
            " [ 3.41518998e+00  1.97386026e+00]\n",
            " [-1.02463188e+01 -8.15062523e+00]\n",
            " [-9.27991486e+00 -4.12140608e+00]\n",
            " [-1.02529612e+01 -8.14956760e+00]\n",
            " [-1.79184878e+00  2.02080727e+00]\n",
            " [ 8.35146618e+00  9.06595111e-01]\n",
            " [-3.78452444e+00 -6.85079336e+00]\n",
            " [-3.74652267e+00  6.60112572e+00]\n",
            " [-1.01630077e+01 -4.19921577e-01]\n",
            " [-3.28978634e+00 -3.43801260e+00]\n",
            " [-2.01606250e+00 -1.66043282e-01]\n",
            " [-5.77713966e+00  1.03906307e+01]\n",
            " [ 2.25696731e+00  3.92716169e+00]\n",
            " [ 2.57887387e+00  9.73525047e+00]\n",
            " [ 1.80034804e+00  1.09209156e+01]\n",
            " [-1.51298606e+00 -1.18881011e+00]\n",
            " [ 4.77134824e-01 -1.66004300e+00]\n",
            " [-1.39497976e+01  9.20847237e-01]\n",
            " [-7.99125195e+00 -1.02736205e-01]\n",
            " [ 4.82182652e-01  7.26456738e+00]\n",
            " [-2.12587571e+00  6.21259165e+00]\n",
            " [-6.06654978e+00  4.74253833e-01]\n",
            " [-4.12370777e+00 -3.44009662e+00]\n",
            " [-3.03707266e+00  1.32750142e+00]\n",
            " [-1.07381427e+00  3.84939718e+00]\n",
            " [-1.89450991e+00  7.79680014e+00]\n",
            " [ 7.55626392e+00 -1.88232279e+00]\n",
            " [-4.09593076e-01  4.53134738e-02]\n",
            " [-1.29268754e+00  5.34779978e+00]\n",
            " [-1.00592766e+01  9.63448644e-01]\n",
            " [-2.94936180e+00  1.20718026e+00]\n",
            " [-4.69970131e+00  4.52782154e+00]\n",
            " [-8.05014896e+00  7.60854053e+00]\n",
            " [ 4.46349049e+00 -5.93113518e+00]\n",
            " [ 5.43213749e+00 -1.11553915e-01]\n",
            " [-1.03106136e+01 -2.12709951e+00]\n",
            " [-6.32394505e+00 -3.28593421e+00]\n",
            " [-7.42791653e-01 -6.71680510e-01]\n",
            " [-2.11728024e+00 -3.15057588e+00]\n",
            " [-3.36738443e+00 -5.42555761e+00]\n",
            " [ 1.30067360e+00  2.69040179e+00]\n",
            " [-5.64318609e+00 -5.41888857e+00]\n",
            " [-9.01085091e+00 -5.81139946e+00]\n",
            " [ 8.12613964e+00  9.29986000e-01]\n",
            " [-3.76660132e+00  1.34334970e+00]\n",
            " [-5.00232506e+00  6.11837149e+00]\n",
            " [-7.86381292e+00  1.92756915e+00]\n",
            " [-7.59498072e+00  3.46456099e+00]\n",
            " [-2.17507686e-02 -8.31985855e+00]\n",
            " [-4.61787128e+00 -3.82051617e-01]\n",
            " [ 4.74397779e-01  5.42350054e+00]\n",
            " [ 5.02900887e+00  7.18904924e+00]\n",
            " [-9.65051842e+00  3.91089010e+00]\n",
            " [-1.50318295e-01  1.04210663e+01]\n",
            " [-3.16969466e+00 -3.03391385e+00]\n",
            " [-3.20126340e-02  3.16379237e+00]\n",
            " [-2.99949026e+00  8.25799465e+00]\n",
            " [ 5.72724962e+00 -3.61909389e+00]\n",
            " [-5.97879362e+00 -7.82261670e-01]\n",
            " [-5.63218212e+00 -2.90266442e+00]\n",
            " [ 7.35513735e+00 -1.22900879e+00]\n",
            " [ 9.00077522e-01  1.76348746e+00]\n",
            " [-5.00894499e+00  2.07341433e+00]]\n"
          ],
          "name": "stdout"
        }
      ]
    },
    {
      "cell_type": "code",
      "metadata": {
        "id": "5aBeXOnOcG0w",
        "colab_type": "code",
        "outputId": "63ac9ccd-18e8-4000-e9d0-35c94490c53d",
        "colab": {
          "base_uri": "https://localhost:8080/",
          "height": 85
        }
      },
      "source": [
        "print(tsne.get_params)"
      ],
      "execution_count": 0,
      "outputs": [
        {
          "output_type": "stream",
          "text": [
            "<bound method BaseEstimator.get_params of TSNE(angle=0.5, early_exaggeration=12.0, init='random', learning_rate=200.0,\n",
            "     method='barnes_hut', metric='euclidean', min_grad_norm=1e-07,\n",
            "     n_components=2, n_iter=1000, n_iter_without_progress=300, n_jobs=None,\n",
            "     perplexity=30.0, random_state=0, verbose=0)>\n"
          ],
          "name": "stdout"
        }
      ]
    },
    {
      "cell_type": "code",
      "metadata": {
        "id": "SquQHsdFe_Wq",
        "colab_type": "code",
        "outputId": "8e0f253d-3da1-4a38-a560-67226631bfda",
        "colab": {
          "base_uri": "https://localhost:8080/",
          "height": 119
        }
      },
      "source": [
        "tsne_embedded_df = pd.DataFrame({'Word': vocabulary_tokens, 'X-D':tsne_embedded[:,0], 'Y-D':tsne_embedded[:,1]})\n",
        "print(tsne_embedded_df.head())"
      ],
      "execution_count": 0,
      "outputs": [
        {
          "output_type": "stream",
          "text": [
            "      Word        X-D       Y-D\n",
            "0  demesne   0.102668 -5.800400\n",
            "1      far  -8.929960  4.053119\n",
            "2  hearted   5.231611 -0.993479\n",
            "3  suppose  -0.885826  5.431090\n",
            "4  venture -12.763662 -2.250868\n"
          ],
          "name": "stdout"
        }
      ]
    },
    {
      "cell_type": "markdown",
      "metadata": {
        "id": "Vef0eAE2x8Wq",
        "colab_type": "text"
      },
      "source": [
        "### **T-SNE Scatter Plot for embedded matrix**"
      ]
    },
    {
      "cell_type": "code",
      "metadata": {
        "id": "via6OVCkw-e0",
        "colab_type": "code",
        "colab": {}
      },
      "source": [
        "sns.scatterplot(x=\"X-D\", y=\"Y-D\", data=tsne_embedded_df)"
      ],
      "execution_count": 0,
      "outputs": []
    },
    {
      "cell_type": "markdown",
      "metadata": {
        "id": "EMUj9brP3WbZ",
        "colab_type": "text"
      },
      "source": [
        "![Cover_text_embedding_tsne](https://drive.google.com/uc?id=1sLEleifUr6o5AJ9ams-K9PJlzKK9b0xB)\n",
        "![Secret_message_mebedding_tnse](https://drive.google.com/uc?id=1Lbg8DgWJ3wglLIU6zolWsejDampKjL5P)"
      ]
    },
    {
      "cell_type": "markdown",
      "metadata": {
        "id": "toJJ5-1bYop0",
        "colab_type": "text"
      },
      "source": [
        "## **Plotting Cover Txt Data Distrbution**"
      ]
    },
    {
      "cell_type": "code",
      "metadata": {
        "id": "MJpyv7jDZCWA",
        "colab_type": "code",
        "outputId": "4d8a22e2-62c8-4b8c-d2f3-cb3c78acfd8b",
        "colab": {
          "base_uri": "https://localhost:8080/",
          "height": 265
        }
      },
      "source": [
        "# in this stage, a central tendency measure will be selected\n",
        "x = sns.distplot(tsne_embedded[:, 0], label=\"X-D\")\n",
        "y = sns.distplot(tsne_embedded[:, 1], label=\"Y-D\")\n",
        "# Both X and Y distributed normaly in Covet Text Embedding\n",
        "# So which central tendency is suitable for this type of data (not skewed)"
      ],
      "execution_count": 0,
      "outputs": [
        {
          "output_type": "display_data",
          "data": {
            "image/png": "[encoded data removed]",
            "text/plain": [
              "<Figure size 432x288 with 1 Axes>"
            ]
          },
          "metadata": {
            "tags": [],
            "needs_background": "light"
          }
        }
      ]
    },
    {
      "cell_type": "markdown",
      "metadata": {
        "id": "hQakP2-_cJVa",
        "colab_type": "text"
      },
      "source": [
        "## **Mean(Arithmatic) Computation**"
      ]
    },
    {
      "cell_type": "code",
      "metadata": {
        "id": "Yor0kVPdcNUS",
        "colab_type": "code",
        "outputId": "abde3d1f-c2e3-4e47-ef5c-c58d59ddcbed",
        "colab": {
          "base_uri": "https://localhost:8080/",
          "height": 34
        }
      },
      "source": [
        "cover_text_embedding_mean_x = tsne_embedded[:, 0].mean()\n",
        "# print('X:', cover_text_embedding_mean_x)\n",
        "cover_text_embedding_mean_y = tsne_embedded[:, 1].mean()\n",
        "# print('Y:', cover_text_embedding_mean_y)\n",
        "print('Cover_text_embedding_mean[X Y]=[', cover_text_embedding_mean_x,'', cover_text_embedding_mean_y,']')"
      ],
      "execution_count": 0,
      "outputs": [
        {
          "output_type": "stream",
          "text": [
            "Cover_text_embedding_mean[X Y]=[ -2.0296316  0.9792457 ]\n"
          ],
          "name": "stdout"
        }
      ]
    }
  ]
}